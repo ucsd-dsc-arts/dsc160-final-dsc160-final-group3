{
 "cells": [
  {
   "cell_type": "code",
   "execution_count": 1,
   "metadata": {},
   "outputs": [],
   "source": [
    "from bs4 import BeautifulSoup\n",
    "import os\n",
    "import requests\n",
    "import re\n",
    "import pandas as pd\n",
    "import time"
   ]
  },
  {
   "cell_type": "code",
   "execution_count": 2,
   "metadata": {},
   "outputs": [],
   "source": [
    "lyrics_url = \"https://www.azlyrics.com/k/knowles.html\"\n",
    "lyrics_url_query = requests.get(lyrics_url)\n",
    "lyrics_result = BeautifulSoup(lyrics_url_query.text, 'lxml')"
   ]
  },
  {
   "cell_type": "code",
   "execution_count": 3,
   "metadata": {},
   "outputs": [],
   "source": [
    "# Grabs all the songs from Beyonce into one list\n",
    "beyonce_songs = []\n",
    "for i in lyrics_result.find_all('div', {'class':'listalbum-item'}):\n",
    "    for j in i.find_all(\"a\"):\n",
    "        x = j.get('href')\n",
    "        curr_song = re.findall(\"/[a-zA-z]*.html\", x)\n",
    "        fix_songs = [i[1:] for i in curr_song]\n",
    "        beyonce_songs.append(fix_songs)\n",
    "# list of Beyonce songs\n",
    "songs_fixed = [song for song_list in beyonce_songs for song in song_list]"
   ]
  },
  {
   "cell_type": "code",
   "execution_count": 4,
   "metadata": {},
   "outputs": [
    {
     "data": {
      "text/plain": [
       "['crazyinlove.html',\n",
       " 'naughtygirl.html',\n",
       " 'babyboy.html',\n",
       " 'hiphopstar.html',\n",
       " 'bewithyou.html',\n",
       " 'memyselfi.html',\n",
       " 'yes.html',\n",
       " 'signs.html',\n",
       " 'speechless.html',\n",
       " 'thatshowyoulikeit.html',\n",
       " 'closerigettoyou.html',\n",
       " 'beyonceinterlude.html',\n",
       " 'giftfromvirgo.html',\n",
       " 'workitout.html',\n",
       " 'daddy.html',\n",
       " 'fightingtemptations.html',\n",
       " 'fever.html',\n",
       " 'everythingido.html',\n",
       " 'swinglowsweetchariot.html',\n",
       " 'hestilllovesme.html',\n",
       " 'timetocomehome.html',\n",
       " 'summertimewpdiddy.html',\n",
       " 'djvu.html',\n",
       " 'getmebodied.html',\n",
       " 'sugamama.html',\n",
       " 'upgradeu.html',\n",
       " 'ringthealarm.html',\n",
       " 'kittykat.html',\n",
       " 'freakumdress.html',\n",
       " 'greenlight.html',\n",
       " 'irreplaceable.html',\n",
       " 'resentment.html',\n",
       " 'creole.html',\n",
       " 'checkonit.html',\n",
       " 'lostyomind.html',\n",
       " 'encoreforthefans.html',\n",
       " 'listen.html',\n",
       " 'getmebodiedextendedremix.html',\n",
       " 'beautifulliar.html',\n",
       " 'irreplaceable.html',\n",
       " 'greenlight.html',\n",
       " 'kittykat.html',\n",
       " 'welcometohollywood.html',\n",
       " 'upgradeu.html',\n",
       " 'flawsandall.html',\n",
       " 'if.html',\n",
       " 'stillinlovekissingyou.html',\n",
       " 'getmebodied.html',\n",
       " 'freakumdress.html',\n",
       " 'sugamama.html',\n",
       " 'djvu.html',\n",
       " 'ringthealarm.html',\n",
       " 'resentment.html',\n",
       " 'listen.html',\n",
       " 'worldwidewomen.html',\n",
       " 'amorgitano.html',\n",
       " 'oye.html',\n",
       " 'irreemplazable.html',\n",
       " 'belloembustero.html',\n",
       " 'beautifulliarremix.html',\n",
       " 'beautifulliarspanglishversion.html',\n",
       " 'irreemplazablenortenaremix.html',\n",
       " 'ifiwereaboy.html',\n",
       " 'halo.html',\n",
       " 'disappear.html',\n",
       " 'brokenheartedgirl.html',\n",
       " 'avemaria.html',\n",
       " 'smashintoyou.html',\n",
       " 'satellites.html',\n",
       " 'thatswhyyourebeautiful.html',\n",
       " 'savethehero.html',\n",
       " 'siyofueraunchico.html',\n",
       " 'singleladiesputaringonit.html',\n",
       " 'radio.html',\n",
       " 'diva.html',\n",
       " 'sweetdreams.html',\n",
       " 'videophone.html',\n",
       " 'hello.html',\n",
       " 'ego.html',\n",
       " 'scaredoflonely.html',\n",
       " 'whydontyouloveme.html',\n",
       " 'videophoneextendedremix.html',\n",
       " 'poison.html',\n",
       " 'honesty.html',\n",
       " 'icare.html',\n",
       " 'imissyou.html',\n",
       " 'bestthingineverhad.html',\n",
       " 'party.html',\n",
       " 'ratherdieyoung.html',\n",
       " 'startover.html',\n",
       " 'loveontop.html',\n",
       " 'countdown.html',\n",
       " 'tilltheendoftime.html',\n",
       " 'iwashere.html',\n",
       " 'girlswhoruntheworld.html',\n",
       " 'dreaming.html',\n",
       " 'layupunderme.html',\n",
       " 'schoolinlife.html',\n",
       " 'danceforyou.html',\n",
       " 'prettyhurts.html',\n",
       " 'ghosthaunted.html',\n",
       " 'drunkinlove.html',\n",
       " 'blow.html',\n",
       " 'noangel.html',\n",
       " 'yoncpartition.html',\n",
       " 'jealous.html',\n",
       " 'rocket.html',\n",
       " 'mine.html',\n",
       " 'xo.html',\n",
       " 'flawless.html',\n",
       " 'superpower.html',\n",
       " 'heaven.html',\n",
       " 'blue.html',\n",
       " 'flawlessremix.html',\n",
       " 'drunkinloveremix.html',\n",
       " 'ringoff.html',\n",
       " 'blowremix.html',\n",
       " 'standingonthesunremix.html',\n",
       " 'prayyoucatchme.html',\n",
       " 'holdup.html',\n",
       " 'donthurtyourself.html',\n",
       " 'sorry.html',\n",
       " 'daddylessons.html',\n",
       " 'lovedrought.html',\n",
       " 'sandcastles.html',\n",
       " 'forward.html',\n",
       " 'freedom.html',\n",
       " 'allnight.html',\n",
       " 'formation.html',\n",
       " 'sorryoriginaldemo.html',\n",
       " 'summer.html',\n",
       " 'apeshit.html',\n",
       " 'boss.html',\n",
       " 'nice.html',\n",
       " 'friends.html',\n",
       " 'heardaboutus.html',\n",
       " 'blackeffect.html',\n",
       " 'lovehappy.html',\n",
       " 'welcomehomecominglive.html',\n",
       " 'crazyinlovehomecominglive.html',\n",
       " 'freedomhomecominglive.html',\n",
       " 'lifteveryvoiceandsinghomecominglive.html',\n",
       " 'formationhomecominglive.html',\n",
       " 'somuchdamnswaginterludehomecominglive.html',\n",
       " 'sorryhomecominglive.html',\n",
       " 'kittykathomecominglive.html',\n",
       " 'bowdownhomecominglive.html',\n",
       " 'ibeenonhomecominglive.html',\n",
       " 'drunkinlovehomecominglive.html',\n",
       " 'divahomecominglive.html',\n",
       " 'flawlessfeelingmyselfhomecominglive.html',\n",
       " 'topoffhomecominglive.html',\n",
       " 'bugaboorollcallinterludehomecominglive.html',\n",
       " 'partyhomecominglive.html',\n",
       " 'donthurtyourselfhomecominglive.html',\n",
       " 'icarehomecominglive.html',\n",
       " 'partitionhomecominglive.html',\n",
       " 'yonchomecominglive.html',\n",
       " 'migentehomecominglive.html',\n",
       " 'babyboyhomecominglive.html',\n",
       " 'youdontlovemenononohomecominglive.html',\n",
       " 'holduphomecominglive.html',\n",
       " 'countdownhomecominglive.html',\n",
       " 'checkonithomecominglive.html',\n",
       " 'dejavuhomecominglive.html',\n",
       " 'thebzzzzdrumlineinterludehomecominglive.html',\n",
       " 'runtheworldgirlshomecominglive.html',\n",
       " 'losemybreathhomecominglive.html',\n",
       " 'saymynamehomecominglive.html',\n",
       " 'soldierhomecominglive.html',\n",
       " 'getmebodiedhomecominglive.html',\n",
       " 'singleladiesputaringonithomecominglive.html',\n",
       " 'lifteveryvoiceandsingbluesversionhomecominglive.html',\n",
       " 'loveontophomecominglive.html',\n",
       " 'shiningthankyouhomecominglive.html',\n",
       " 'beforeiletgo.html',\n",
       " 'ibeenon.html',\n",
       " 'balancemufasainterlude.html',\n",
       " 'bigger.html',\n",
       " 'thestarsmufasainterlude.html',\n",
       " 'findyourwayback.html',\n",
       " 'unclescarscarinterlude.html',\n",
       " 'dontjealousme.html',\n",
       " 'dangeryoungsimbayoungnalainterlude.html',\n",
       " 'jaarae.html',\n",
       " 'runawayscaryoungsimbainterlude.html',\n",
       " 'nile.html',\n",
       " 'newlessontimonpumbaayoungsimbainterlude.html',\n",
       " 'reunitednalasimbainterlude.html',\n",
       " 'water.html',\n",
       " 'brownskingirl.html',\n",
       " 'comehomenalainterlude.html',\n",
       " 'keystothekingdom.html',\n",
       " 'followmerafikiinterlude.html',\n",
       " 'already.html',\n",
       " 'remembermufasainterlude.html',\n",
       " 'otherside.html',\n",
       " 'warnalainterlude.html',\n",
       " 'mypower.html',\n",
       " 'surrendersimbascarinterlude.html',\n",
       " 'scar.html',\n",
       " 'imhomemufasasarabisimbainterlude.html',\n",
       " 'spirit.html',\n",
       " 'hesmyman.html',\n",
       " 'awomanlikeme.html',\n",
       " 'afterallissaidanddone.html',\n",
       " 'allicoulddowascry.html',\n",
       " 'atlast.html',\n",
       " 'backtoblack.html',\n",
       " 'backup.html',\n",
       " 'blackculture.html',\n",
       " 'bodyrock.html',\n",
       " 'bowdownibeenon.html',\n",
       " 'canyoufeelthelovetonight.html',\n",
       " 'cardsneverlie.html',\n",
       " 'control.html',\n",
       " 'crazyinlovefiftyshadesofgreyversion.html',\n",
       " 'daddylessonsremix.html',\n",
       " 'diewithyou.html',\n",
       " 'egoremix.html',\n",
       " 'godblesstheusa.html',\n",
       " 'godmadeyoubeautiful.html',\n",
       " 'grownwoman.html',\n",
       " 'haveyourway.html',\n",
       " 'hellolive.html',\n",
       " 'ibeenonremix.html',\n",
       " 'icanttakenomore.html',\n",
       " 'icareremix.html',\n",
       " 'idrathergoblind.html',\n",
       " 'imalonenow.html',\n",
       " 'imleaving.html',\n",
       " 'icecreamtruck.html',\n",
       " 'ifiwereaboyremix.html',\n",
       " 'iflookscouldkillyouwouldbedead.html',\n",
       " 'indaclub.html',\n",
       " 'inthisworld.html',\n",
       " 'irreplaceableremix.html',\n",
       " 'jealousremix.html',\n",
       " 'keepgivingyourlovetome.html',\n",
       " 'kickhimoutnextex.html',\n",
       " 'moveyourbody.html',\n",
       " 'naughtygirlremix.html',\n",
       " 'newshoespostcard.html',\n",
       " 'onceinalifetime.html',\n",
       " 'partitionremix.html',\n",
       " 'partyremix.html',\n",
       " 'riseup.html',\n",
       " 'roc.html',\n",
       " 'salud.html',\n",
       " 'shouldhavenowiknowforevertobleed.html',\n",
       " 'slowlove.html',\n",
       " 'soamazing.html',\n",
       " 'standingonthesun.html',\n",
       " 'stopsign.html',\n",
       " 'stopthat.html',\n",
       " 'summertime.html',\n",
       " 'summertimeremix.html',\n",
       " 'thelastgreatseduction.html',\n",
       " 'tributetosteviewonderlive.html',\n",
       " 'waiting.html',\n",
       " 'whatsgoodwithyou.html',\n",
       " 'wishingonastar.html',\n",
       " 'youaremyrock.html']"
      ]
     },
     "execution_count": 4,
     "metadata": {},
     "output_type": "execute_result"
    }
   ],
   "source": [
    "songs_fixed"
   ]
  },
  {
   "cell_type": "code",
   "execution_count": null,
   "metadata": {
    "scrolled": true
   },
   "outputs": [],
   "source": [
    "# RUNS ALL SONGS THAT THE WEBSITE STATES IS FROM BEYONCE\n",
    "# USE FOR CLARIFICATION ONLY - DO NOT RUN\n",
    "\n",
    "# # Grabs lyrics and removes all punctuation and capitalization. whitespace kept though\n",
    "\n",
    "# # list of just song lyrics, no song titles\n",
    "# just_lyrics = []\n",
    "# # dictionary of song lyrics with titles associated with the lyric\n",
    "# title_and_lyrics = {}\n",
    "\n",
    "# for x in songs_fixed:\n",
    "#     curr_song = \"https://www.azlyrics.com/lyrics/beyonceknowles/{song}\"\n",
    "#     curr_song = curr_song.format(song = x)\n",
    "#     curr_song_req = requests.get(curr_song)\n",
    "#     time.sleep(5)\n",
    "#     curr_song_result = BeautifulSoup(curr_song_req.text, 'lxml')\n",
    "    \n",
    "#     for i in curr_song_result.find_all('div', {'class':'col-xs-12 col-lg-8 text-center'}):\n",
    "        \n",
    "#         # lyrics - no punctuation, capitalization. whitespace kept #\n",
    "#         for j in i.find_all('div',class_= None):\n",
    "#             curr_lyrics = j.text.replace(\"\\n\",\" \")\n",
    "#             mod_lyrics = re.sub('[^0-9a-zA-Z]+', ' ', curr_lyrics)\n",
    "#             just_lyrics.append(mod_lyrics.lower())\n",
    "#             title_and_lyrics[x[:-5]] = mod_lyrics"
   ]
  },
  {
   "cell_type": "markdown",
   "metadata": {},
   "source": [
    "### Beyonce Lyric Scrape\n",
    "\n",
    "### NOTE\n",
    "- Run each block separately and allow from some time to pass before running each block. (Like a minute or two)\n",
    "    - There is a 30-second time delay already in the code for each request, you can adjust if necessary\n",
    "    - Running all blocks at the same time might result in an IP ban on azlyrics website\n",
    "- Each block should add onto the list: \"just_lyrics\" and the dictionary: \"title_and_dictionary\". To ensure that all songs were totalled correctly, each container should have a length of 127 once all blocks are run"
   ]
  },
  {
   "cell_type": "code",
   "execution_count": 8,
   "metadata": {},
   "outputs": [],
   "source": [
    "# list of just song lyrics, no song titles\n",
    "just_lyrics = []\n",
    "# dictionary of song lyrics with titles associated with the lyric\n",
    "title_and_lyrics = {}"
   ]
  },
  {
   "cell_type": "code",
   "execution_count": 9,
   "metadata": {},
   "outputs": [],
   "source": [
    "# MODIFIES LIST TO SHOW ONLY SONGS FROM BEYONCE ALBUMS. \"LIVE\" VERSIONS, MOVIE ALBUMS, ADDITIONAL SONGS\n",
    "#, ARE NOT INCLUDED\n",
    "song_modified = list(set(songs_fixed[:138]))"
   ]
  },
  {
   "cell_type": "code",
   "execution_count": 10,
   "metadata": {},
   "outputs": [
    {
     "data": {
      "text/plain": [
       "127"
      ]
     },
     "execution_count": 10,
     "metadata": {},
     "output_type": "execute_result"
    }
   ],
   "source": [
    "len(song_modified)"
   ]
  },
  {
   "cell_type": "code",
   "execution_count": 11,
   "metadata": {},
   "outputs": [],
   "source": [
    "block_one = song_modified[:23]\n",
    "\n",
    "# Grabs lyrics and removes all punctuation and capitalization. whitespace kept though\n",
    "for x in block_one:\n",
    "    curr_song = \"https://www.azlyrics.com/lyrics/beyonceknowles/{song}\"\n",
    "    curr_song = curr_song.format(song = x)\n",
    "    curr_song_req = requests.get(curr_song)\n",
    "    time.sleep(30)\n",
    "    curr_song_result = BeautifulSoup(curr_song_req.text, 'lxml')\n",
    "    \n",
    "    for i in curr_song_result.find_all('div', {'class':'col-xs-12 col-lg-8 text-center'}):\n",
    "        \n",
    "        # lyrics - no punctuation, capitalization. whitespace kept #\n",
    "        for j in i.find_all('div',class_= None):\n",
    "            curr_lyrics = j.text.replace(\"\\n\",\" \")\n",
    "            mod_lyrics = re.sub('[^0-9a-zA-Z]+', ' ', curr_lyrics)\n",
    "            just_lyrics.append(mod_lyrics.lower())\n",
    "            title_and_lyrics[x[:-5]] = mod_lyrics"
   ]
  },
  {
   "cell_type": "code",
   "execution_count": 12,
   "metadata": {},
   "outputs": [
    {
     "name": "stdout",
     "output_type": "stream",
     "text": [
      "23 23\n"
     ]
    }
   ],
   "source": [
    "print(len(just_lyrics), len(title_and_lyrics))"
   ]
  },
  {
   "cell_type": "code",
   "execution_count": 13,
   "metadata": {},
   "outputs": [],
   "source": [
    "block_two = song_modified[23:47]\n",
    "\n",
    "# Grabs lyrics and removes all punctuation and capitalization. whitespace kept though\n",
    "for x in block_two:\n",
    "    curr_song = \"https://www.azlyrics.com/lyrics/beyonceknowles/{song}\"\n",
    "    curr_song = curr_song.format(song = x)\n",
    "    curr_song_req = requests.get(curr_song)\n",
    "    time.sleep(30)\n",
    "    curr_song_result = BeautifulSoup(curr_song_req.text, 'lxml')\n",
    "    \n",
    "    for i in curr_song_result.find_all('div', {'class':'col-xs-12 col-lg-8 text-center'}):\n",
    "        \n",
    "        # lyrics - no punctuation, capitalization. whitespace kept #\n",
    "        for j in i.find_all('div',class_= None):\n",
    "            curr_lyrics = j.text.replace(\"\\n\",\" \")\n",
    "            mod_lyrics = re.sub('[^0-9a-zA-Z]+', ' ', curr_lyrics)\n",
    "            just_lyrics.append(mod_lyrics.lower())\n",
    "            title_and_lyrics[x[:-5]] = mod_lyrics"
   ]
  },
  {
   "cell_type": "code",
   "execution_count": 14,
   "metadata": {},
   "outputs": [
    {
     "name": "stdout",
     "output_type": "stream",
     "text": [
      "47 47\n"
     ]
    }
   ],
   "source": [
    "print(len(just_lyrics), len(title_and_lyrics))"
   ]
  },
  {
   "cell_type": "code",
   "execution_count": 15,
   "metadata": {},
   "outputs": [
    {
     "data": {
      "text/plain": [
       "{'speechless': ' You ve got me You ve got me You ve got me You ve got me speechless Where you been baby Waited for you all day Waited for you to use the key That opens my place My heart starts trembling As I hear your footsteps pace Lock opens doorknob turns There appears your face Going out my head I think I m losing all my mind Drive me crazy burning candles making love all night Feels so strange it feels so crazy to be in your world In your arms lost for words You ve got me You ve got me You ve got me You ve got me You ve got me speechless Laying so closely I feel your skin rubbing and touching me Only sweat between us Feeling you kissing and pleasing me I rub your back I kiss your neck I know that you love when we touch like that I can feel you need me Feels so good to me Feels so good to me Going out my head I think I m losing all my mind Drive me crazy burning candles making love all night Feels so strange it feels so crazy to be in your world In your arms lost for words You ve got me You ve got me You ve got me You ve got me You ve got me speechless Yes yes yes Yes yes yes Speechless all I can say is Yes yes yes All I can say is Yes yes yes yes Kiss me Hold me You ve got me Speechless ',\n",
       " 'fightingtemptations': ' Intro Beyonce Fighting temptation Missy Yo Beyonce Free MC Lyte y all ready Let it put it down for the clubs Beyonce Missy Free MC Lyte Ladies HEY we got that beat that make you jump To my fellas whoo Ya ll got them cars them ladies love Party People yeah we gonna party all night And let yo soul work ooo and let yo soul keep on workin out Verse 1 Missy Missy Beyonce MC Lyte Free I m the type of chick who be fightin temptation Make you wait before we have a relation Playboy holla at me lata Don t you know I m managed by Violator They shootin I m exterminator I look good so hate me hater Me and my girls drinkin where s the waiter Cheatin guys I already played ya Ladies night don t suffocate us If you touch us we gonna altercation Warn Missy you s impersonator I got so much ice I even scare Jacob Beyonce MC Lyte and Free Missy put it down on da beat Party people it s good sensation We gonna show you how to fight temptation Chorus Beyonce I m just fighting temptation Yeah Gotta get more control Control yeah Yet it s very tempting when you ask to take me home Home I know you want my love Love I don t think the time is right No Call when I m ready but it won t be tonight Verse 2 Free We in the club Free gully no doubt See this real deal playa starin dead in my mouth He got his crew but I got mine too Send a note to my table like what you gonna do Eye game got him spreadin me out In my ear dry tears how he left his spouse And oh the nice cars and impressive house He want to run up in I ain t no regular route Hoooo Me and the girls we ain t stressin out We ain t birds we ain t headin south Noooo Them one nighters that s sad and doubt That little talk on da creep what you said is out I gets cheddar to help me do what ever No beef with Dennis Edwards but I fight temptation I m not sayin I don t like temptation I m just lookin for da right temptation ya kno Chorus Verse 3 MC Lyte Yeah party liked I never partyed before I hit the door all the dudes hit the floor Sweet they messin wit the brown sugar queen Fightin temptation like Layla Ali Wit the 1 2 let me show you what the hon do When I come through wit the butta dip crew Now show me that you got my back Love me from where you at I got eyes up over my shoulder If you should decide to get closer Hooo Well then this dance is straight over I m gone and Missy s Testaroasa Be cool thay what Free say B say Keep it clean but give them lee way All I know it s a crazy sensation You fine but I m fightin temptation Chorus Outro Beyonce Missy Free Wooooooo We goin show you how to fight temptation My love yeah I m jus lookin for da right temptation Cut and Stratch Fight temptation Wooooo yeah yeah yeah We goin show you how to fight temptation I m jus lookin for da right temptation Cut and Stratch Fight temptation Yeah yeah yeah woooooo Beyonce Missy Free MC Lyte W w what you gonna do Hoo hoo W w what you gonna do Hoo hoo W w what you gonna do Hoo hoo ',\n",
       " 'apeshit': ' Beyonc and Quavo Stack my money fast and go fast fast go Fast like a Lambo skrrt skrrt skrrt I be jumpin off the stage ho jumpin jumpin hey hey Crowd better save her crowd goin ape hey I can t believe we made it this is what we made made This is what we re thankful this is what we thank thank I can t believe we made it this a different angle Have you ever seen the crowd goin apeshit Rah Beyonc and Quavo Gimme my check put some respek on my check Or pay me in equity pay me in equity Watch me reverse out of debt skrrt He got a bad bitch bad bitch We livin lavish lavish I got expensive fabrics I got expensive habits He wanna go with me go with me He like to roll the weed roll the weed He wanna be with me be with me He wanna give me that vitamin D D Ice ornaments icy style tournaments woo You ain t on to this no Don t think they on to this no Yeah yeah yeah yeah yeah yeah Bought him a jet Yeah yeah yeah yeah yeah yeah Shut down Colette Yeah yeah yeah yeah yeah yeah Phillippe Patek Yeah yeah yeah yeah yeah yeah Get off my dick uh hey Beyonc and Quavo Gimme the ball gimme the ball take the top shift ball Call my girls and put em all on a spaceship brr Hang one night with Yonc I ll make you famous hey Have you ever seen the stage goin apeshit Rah ayy Beyonc Quavo and Offset Stack my money fast and go fast fast go Fast like my Lambo skrrt skrrt skrrt Jumpin off the stage ho jumpin jumpin hey hey Crowd better save her crowd goin ape hey I can t believe we made it this is what we made made This is what we re thankful for this is what we thank thank I can t believe we made it this a different angle Have you ever seen the crowd goin apeshit Offset JAY Z I m a gorilla in the fuckin coupe Finna pull up in the zoo I m like Chief Keef meet Rafiki Who been lyin King to you woo Pocket watchin like kangaroos Tell these clowns we ain t amused Nana clips for that monkey business 4 5 got change for you Motorcades when we came through Presidential with the planes too One better get you with the residential Undefeated with the caine too I said no to the Super Bowl you need me I don t need you Every night we in the end zone tell the NFL we in stadiums too Last night was a fuckin zoo Stagedivin in a pool of people Ran through Liverpool like a fuckin Beatle Smoking gorilla glue like it s fuckin legal Tell the Grammy s fuck that 0 for 8 shit Have you ever seen a crowd goin apeshit rah ayy Beyonc and Quavo Stack my money fast and go fast fast go Fast like my Lambo skrrt skrrt skrrt Jumpin off the stage ho jumpin jumpin hey hey Crowd better save her crowd goin ape hey I can t believe we made it this is what we made made This is what we re thankful for this is what we thank thank I can t believe we made it this a different angle Have you ever seen the crowd goin apeshit Rah Beyonc and JAY Z Haters in danger dangerous Whole lot of gangin gang 35 chains chains chains I don t give a damn bout the fame nope G8 planes tshh tshh Alexander Wang woo She a thot that you claim woo Can t be toppin my reign c mon c mon c mon Poppin I m poppin my bitches all poppin We go to the dealer and cop it all cop it all Sippin my favorite alcohol alcohol Got me so lit I need Tylenol Tylenol All of my people I free em all free em all Hop in the whip wanna see the stars uh woo Sendin the missiles off drinkin my inhibitions off 250 for the Richard Mille yeah yeah live in a field livin up My body make Jigga go kneel woo Man my momma my Lord my shield shield Look at my jewelry I m lethal lethal These diamonds on me they see through see through I m a Martian they wishin they equal equal I got M s like the back of Evisu Beyonc and JAY Z Gimme the paw gimme the ball take a top shift she went crazy Call my girls and put em all on a spaceship Hang one night with Yonc I ll make you famous ah ah ah Have you ever seen the crowd goin apeshit Rah come on Beyonc and Quavo Stack my money fast and go fast fast go Fast like a Lambo skrrt skrrt skrrt I be jumpin off the stage ho jumpin jumpin hey hey Crowd better save her crowd goin ape hey I can t believe we made it this is what we made made This is what we re thankful for this is what we thank thank I can t believe we made it this a different angle Have you ever seen the crowd goin apeshit Rah ',\n",
       " 'oye': ' Oye lo que tengo que decir No puedo ya seguir viviendo as Oye uhum como llora mi canci n Preciso tu atenci n debes o r Hoy no s qui n soy ni s a d nde voy Encontrarme hoy es mi misi n De tu prisi n por fin ya soy libre Oye Esto no tiene salida Ya nada sirve que digas Tengo que escapar Yo tengo que escuchar a mi coraz n Hoy Buscar mi propia luz No seas insensible Soy m s de lo que fui por ti Llena de valor voy a partir Yo tengo que encontrar mi voz Nunca quisiste que me fuera a volar Callar mi identidad que gran error Hoy grito no tengo m s temor Hoy tu alumna te dice adi s De tu prisi n por fin ya soy libre Oye Esto no tiene salida Ya nada sirve que digas Tengo que escapar Yo tengo que escuchar a mi coraz n Oye Buscar mi propia luz No seas insensible Soy m s de lo que fui por ti Llena de valor voy a partir Yo tengo que encontrar mi voz Yo soy tu gran creaci n Por eso es que me voy Dime adi s dime adi s Oye Lo que tengo que decir No puedo ya seguir viviendo as Ya me voy Buscar mi propia luz No seas insensible Soy m s de lo que fui por ti Llena de valor hoy ya lo decid Yo tengo que encontrar mi voz Mi voz ',\n",
       " 'thatswhyyourebeautiful': ' Diamonds used to be coal Look young cause they got soul That s why they re beautiful And my heart used to be cold Til your hands laid on my soul baby And that s why you re beautiful I m not wondering why The sky s blue That s not my business All I know is I Look up and tell myself Be patient love That could be us Lovers used to make love And die just to give us Their piece of the beautiful Remember when we made love Love Wasn t it beautiful Don t ask me why The sky s blue That s not my business All I know is I Look up and tell myself Be patient love That could be us Diamonds used to be coal Look young cause they got soul And my heart used to be cold Til your hands laid on my soul Somebody s got to stay deep in love That could be us That s why we re beautiful That s why you re beautiful Why why That s why you re beautiful That s why you re beautiful That s why you re beautiful ',\n",
       " 'forward': ' Forward Best foot first just in case When we made our way til now It s time to listen it s time to fight Forward Now we re going to hold doors open for a while Now we can be open for a while Forward I love you more than this job please don t work for me Forward Go back to your sleep in your favorite spot just next to me Forward forward ',\n",
       " 'girlswhoruntheworld': ' Girls we run this mother yeah 4x Girls Who run the world Girls 4x Who run this mother Girls 4x Who run the world Girls 4x Some of them men think They freak this like we do But no they don t Make your check come at their neck Disrespect us No they won t Boy don t even try to touch this touch this Boy this beat is crazy crazy This is how they made me made me Houston Texas baby This goes out to all my girls That s in the club rocking the latest Who will buy it for themselves and get more money later I think I need a barber None of these niggas can fade me I m so good with this I remind you I m so hood with this Boy I m just playing Come here baby Hope you still like me F U pay me My persuasion can build a nation Endless power with our love we can devour You ll do anything for me Who run the world Girls 4x Who run this mother Girls 4x Who run the world Girls 4x It s hot up in here DJ don t be scared to run this run this back I m reppin for the girls who taking over the world Help me raise a glass for the college grads 41 Rollie to let you know what time it is check You can t hold me you can t hold me I work my 9 to 5 better cut my check This goes out to all the women getting it in You re on your grind To other men that respect what I do Please accept my shine Boy I know you love it How we re smart enough to make these millions Strong enough to bear the children children Then get back to business See you better not play me Oh come here baby Hope you still like me F U hate me My persuasion can build a nation Endless power With our love we can devour You ll do anything for me Who run the world Girls 4x Who run this mother Girls 4x Who run the world Girls 4x Who are we What we run The world Who run this mother Yeah Who are we What we run The world Who run this mother Yeah Who are we What do we run We run the world Who run this mother Yeah Who are we What we run We run the world Who run the world Girls ',\n",
       " 'drunkinloveremix': ' Intro Dany l Waro Kinm in kalot ot Mandela Tw la pa m t dan la g l banna Tw la p t amwin Intro Beyonce We be all night Verse 1 Kanye West Woo You will never need another lover Woo Cause you a milf and I m a motherfucker Told you give the drummer some now the drummer cummin I m pa rum pa pum pumin all on your stomach Yeah tonight I see some super freaky hoes That could go from bein stripper to a super C E O I don t know the way you do it but you do it to me though And you always told your girlfriends you need you a TV show Now you got your own money you don t need nobody else But as far as handlin all that ass I think you gon need some help Let me remind you you got a you got a great future behind you You gotta tell me what we tryna do I ain t no pastor don t do missionary I know good pussy when I see it I m a visionary I know them haters talkin always had us very wary Yup On the 35th of Nevuary Yup You love the way I m turnt After all the money you earned still show daddy what you learned That cowgirl you reverse that cowgirl You reverse you reverse and I impregnated your mouth girl ooooh That s when I know you could be my spouse girl We fuckin all over the house girl we just messed up a brand new couch girl You ain t on site then you on Skype I put you on that bike you bound girl We too wild won t turn down We drunk in love fuck them Verse 2 Beyonce I ve been drinking I ve been drinking I get filthy when that liquor get into me I ve been thinking I ve been thinking Why can t I keep my fingers off it baby I want you na na Why can t I keep my fingers off it baby I want you na na Cigars on ice cigars on ice Feeling like an animal with these cameras all in my grill Flashing lights flashing lights You got me faded faded faded baby I want you na na Can t keep your eyes off my fatty daddy I want you na na Drunk in love I want you Bridge We woke up in the kitchen saying How the hell did this shit happen Oh baby drunk in love We be all night last thing I remember is our Beautiful bodies grinding up in the club drunk in love Hook We be all night love love We be all night love love Verse 3 Beyonce We be all night and everything all right No complaints from my body so fluorescent under these lights Boy I m drinking park it in my lot 7 11 I m rubbing on it rub rubbing if you scared call that reverend Boy I m drinking get my brain right Armand de Brignac gangster wife Louis sheets he sweat it out like washrags he wear it up Boy I m drinking I m singing on the mic til my voice hoarse Then I fill the tub up halfway then ride it with my surfboard Surfboard surfboard Graining on that wood graining graining on that wood I m swerving on that swerving swerving on that Big body Benz serving all this swerve surfing all in this good good Bridge Hook Verse 4 Jay Z Hold up that D uss is the shit if I do say so myself If I do say so myself if I do say so myself Hold up stumble all in the house time to back up all that mouth That you had all in the car talking bout you the baddest bitch thus far Talking bout you be repping that Third I wanna see all that shit that I heard Know I sling Clint Eastwood I hope that you can handle this curve uh Foreplay in the foyer fucked up my Warhol Slid the panties right to the side ain t got the time to take draws off On site catch a charge I might Beat the box up like Mike in 97 I ll bite I m Ike Turner turn up baby no I don t play Now eat the cake Anna Mae I said Eat the cake Anna Mae I m nice for y all to reach these heights You gon need G3 4 5 6 flights Sleep tight we sex again in the morning Your breastases is my breakfast we going in we be all night Hook Bridge I m never tired never tired I been sippin that s the only thing That s been keeping me on fire we on fire Didn t mean to spill that liquor all on my attire I ve been drinking watermelon I want your body right here daddy I want you right now Can t keep your eyes off my fatty daddy I want you Hook ',\n",
       " 'dreaming': ' When I m here in your arms I feel love in my heart I can breathe Not even pinching myself I don t care I m with you you re with me I never wished on the star When the star ain t got nothing on me Cause I can wish you in the dreams When I close my eyes I feel like I m alive Cause I can fall asleep knowing that tonight you will be here with me oh Let me know if this is a dream Then I don t wanna know I don t wanna know Cause I ain t bout to be without you babe without you babe oh Let me know if this is a dream Then I ain t letting go I ain t letting go Cause everything I love is about you babe about you babe So I d rather be here dreaming than waking up with nobody home Oh oh oh oh oh oh oh oh oh oh If it s the only way to be with you then dreaming you is where I belong Oh oh oh oh oh oh oh oh oh oh I think the luckiest girl in the whole wide world could be me I get to be with the one that I love anytime I please I feel like I can stay forever beyond eternity It s like I m where I supposed to be When I close my eyes I feel like I m alive Cause I can fall asleep knowing that tonight you will be here with me Oh Let me know if this is a dream Then I don t wanna know I don t wanna know Cause I ain t bout to be without you babe without you babe oh Let me know if this is my dream Then I ain t letting go I ain t letting go Cause everything I love is about you babe about you babe So I d rather be here dreaming than waking up with nobody home Oh oh oh oh oh oh oh oh oh oh If that s the only way to be with you then dreaming you is where I belong Oh oh oh oh oh oh oh oh oh oh It took a lifetime just to get with you to be with you baby And now that I m here with you I m gonna take it in breathe you in And if I am dreaming let the dream be that I m awake Cause I d rather dream about you than be living life without me and you you 2x Let me know if this is a dream Then I don t wanna know I don t wanna know Cause I ain t bout to be without you babe without you babe oh Let me know if this is my dream Then I ain t letting go I ain t letting go Cause everything I love is about you babe about you babe So I d rather be here dreaming than waking up with nobody home Oh oh oh oh oh oh oh oh oh oh If that s the only way to be with you then dreaming you is where I belong Oh oh oh oh oh oh oh oh oh oh ',\n",
       " 'hello': ' Oh Oh oh oh oh oh oh I love to see you walk into the room Body shining lighting up the place And when you talk everybody stops Cause they know you know just what to say And the way that you protect your friends Baby I respect you for that And when you grow you take everyone you love along I love that shit Don t fly me away Don t need to buy a diamond key to unlock my heart You shelter my soul You re my fire when I m cold I want you to know You had me at hello Hello Hello Hello Hello Hello You had me at hello Hello Hello Hello Hello Hello It was many years ago Ago Baby when you When you Stole my cool Stole my cool Cause you had me at hello Hello Hello Hello Hello oh oh oh oh oh I get so excited when you travel with me Baby while I m on my grind And never would I ever let my hustle Come between me and my family time You keep me humble out of this hype Cause you know there s more to life If I need you you will be here You will make the sacrifice Don t fly me away Don t need to buy a diamond key to unlock my heart You shelter my soul You re my fire when I m cold Just want you to know You had me at hello Hello Hello Hello Hello Hello You had me at hello Hello Hello Hello Hello Hello It was many years ago Ago Baby when you When you Stole my cool Stole my cool You had me at hello Hello Hello Hello Hello oh oh oh oh oh Gotta feel you and be near you You re the air that I breathe to survive Gotta hold you wanna show you That without you my sun doesn t shine You don t have to try so hard for me to love you Boy without you my life just ain t the same You don t have to try so hard for me to love you You had me at hello Hello Hello Hello Hello Hello You had me at hello Hello Hello Hello Hello Hello It was many years ago Ago Baby when you When you Stole my cool Stole my cool Cause you had me at hello Hello Hello Hello Hello oh oh oh oh oh It was many years ago Baby when you Stole my cool You had me at hello Hello Hello oh oh oh oh oh ',\n",
       " 'donthurtyourself': ' Beyonc Don t hurt yourself Don t hurt yourself Who the fuck do you think I am You ain t married to no average bitch boy You can watch my fat ass twist boy As I bounce to the next dick boy And keep your money I ve got my own Keep a bigger smile on my face being alone Bad motherfucker God complex Motivate your ass call me Malcolm X Yo operator or innovator Fuck you hater you can t recreate her no You ll never recreate her no hero We just got to let it be Let it be let it be let it be baby You just got to let it be Let it be let it be let it be Jack White When you hurt me you hurt yourself Don t hurt yourself When you diss me you diss yourself Don t hurt yourself When you hurt me you hurt yourself Don t hurt yourself don t hurt yourself When you love me you love yourself Love God herself Beyonc I am the dragon breathing fire Beautiful mane I m the lion Beautiful man I know you re lying I am not broken I m not crying I m not crying You ain t trying hard enough You ain t loving hard enough You don t love me deep enough We not reaching peaks enough Blindly in love I fucks with you Til I realize I m just too much for you I m just too much for you You just got to let it be Let it be let it be let it be baby Hey baby who the fuck do you think I am I smell that fragrance on your Louis Knit boy Just give my fat ass a big kiss boy Tonight I m fucking up all your shit boy Beyonc Jack White When you hurt me you hurt yourself Try not to hurt yourself When you play me you play yourself Don t play yourself When you lie to me you lie to yourself You only lying to yourself When you love me you love yourself Love God herself Beyonc We just got to let it be Let it be let it be let it be let it be baby Uh this is your final warning You know I give you life If you try this shit again You gonna lose your wife ',\n",
       " 'stillinlovekissingyou': ' I m so in love I m still in love I ve never been in love quite before Until I saw your face And watching stars without you My soul cries My heaving heart Is full of pain When we re apart The aching I m kissing you oh I m kissing you oh You re my father You re my soldier You protect me boy you save me You re my best friend You re my husband You are my doctor counselor Provider professor my everything And I love you I love you I love you yes I love you I I need you I need you I need you I can t live without you I trust you I trust you with every ounce of me Just teach me boy teach me just take me When we make love I can feel all your spirits deep inside of me yeah Baby you re so pure I m kissing you forever and ever and ever I love kissing you kissing you kissing you Boy I love everything about you baby It s been so many years since we fell in love We got something special baby We can cry together We can grow together Be ourselves together And I love you more than music Yes I love you more than music I d rather be kissing you oh I m kissing you oh kissing you kissing you ',\n",
       " 'irreplaceable': ' To the left to the left To the left to the left mmmmmm To the left to the left Everything you own in the box to the left In the closet that s my stuff Yes if I bought it please don t touch Don t touch And keep talking that mess that s fine But could you walk and talk at the same time And it s my name that s on that jag So remove your bags let me call you a cab Standing in the front yard Tellin me how I m such a fool Talkin bout how I ll never ever find a man like you You got me twisted You must not know about me you must not know about me I could have another you in a minute Matter of fact he ll be here in a minute baby You must not know about me you must not know about me I can have another you by tomorrow So don t you ever for a second get to thinking You re irreplaceable So go ahead and get gone Call up that chick and see if she s home Oops I bet you thought that I didn t know What did you think I was putting you out for Because you was untrue Rollin her around in the car that I bought you Baby drop them keys Hurry up before your taxi leaves Standing in the front yard Tellin me how I m such a fool Talkin bout I ll never ever find a man like you You got me twisted You must not know about me you must not know about me I could have another you in a minute Matter of fact he ll be here in a minute baby You must not know about me you must not know about me I will have another you by tomorrow So don t you ever for a second get to thinking You re irreplaceable Irreplaceable So since I m not your everything Irreplaceable How about I ll be nothing Nothing Nothing at all to you Nothing Baby I won t shed a tear for you I won t shed a tear I won t lose a wink of sleep Cause the truth of the matter is Replacing you was so easy To the left to the left To the left to the left mmmmmm To the left to the left Everything you own in the box to the left To the left to the left Don t you ever for a second get to thinking You re irreplaceable You must not know about me you must not know about me I could have another you in a minute Matter of fact he ll be here in a minute baby You must not know about me you must not know about me I can have another you by tomorrow So don t you ever for a second get to thinking baby You must not know about me you must not know about me I can have another you in a minute Matter of fact he ll be here in a minute You can pack all your bags You must not know about me We re finished You must not know about me Cause you made your bed Now lay in it I can have another you by tomorrow Don t you ever for a second get to thinking You re irreplaceable ',\n",
       " 'smashintoyou': ' Head down As I watch my feet take turns hitting the ground Eyes shut I find myself in love racing the Earth And I m soaked in your love And love was right in my path in my grasp And me and you belong I wanna run run Smash into you I wanna run run And smash into you Ears closed What I hear no one else has to know Cause I know That what we have is worth first place in gold And I m soaked in your love And love is right in my path in my grasp And me and you belong oh I wanna run run Smash into you I wanna run run Smash into you Smash into you Oh Head down As I watch my feet take turns hitting the ground Eyes shut I m in love and I m racing the Earth And I m soaked in your love And love is right in my path in my grasp And me and you belong Oh I wanna run Smash into you I m willing to run run Smash into you I m willing to run run run run ooh ooh ooh ooh ooh I m willing to run run run run ooh ooh ooh ooh ooh I wanna run run Smash into you I m willing to run run Smash into you ',\n",
       " 'heardaboutus': ' No need to ask you heard about us No need to ask you heard about us Already know you know about us No need to ask you heard about us No need to ask you heard about us Watch your mouth when you around us Pull up hop out wreck Got no time but we got Patek s I come around stepping on necks My chica got niggas upset why Oh why these bitches so mad for They don t want Yonc on their door Louis slugger to your four door Careful you get what you asked for We go ooh Go to Cuba then Aruba in the middle of the winter skrt skrt Brand new sprinter we laugh to the bank But we ain t no joke yeah You better act like you know yeah No need to ask you heard about us No need to ask you heard about us Already know you know about us Ain t no need to ask you heard about us No need to ask you heard about us Watch your mouth when you move around us If you don t know now you know nigga He smoke and we drink D USS to the face yeah If you don t know now you know nigga Put hoes in their place bitch stay in your lane Bitch stay in your lane Talk that talk B Billie Jean in his prime For the thousandth time the kid ain t mine Online they call me dad kiddingly You re not supposed to take this dad thing literally That s too famous we don t even really do famous I m cool on that chunk to two fingers Everyday I m gettin sued famous I show up to court without a suit famous Your every move is on the news ain t it Shit has its perks too ain t it Shootin videos in the Louvre ain t it It could be far worse for you can t it Pain comes with penthouse views ain t it Bitch know me I been me since the cocaine Bitch know B she don t even need a whole name It s Beyonc nigga No need to ask you heard about us It s Beyonc nigga No need to ask you heard about us Oh my God Already know you know about us No need to ask you heard about us No need to ask you heard about us Watch your mouth when you move around us And if you don t know now you know nigga He smoke and we drink D USS to the face And if you don t know now you know nigga Put hoes in their place bitch stay in your lane Yeah we the ones that you heard about Make big noise big noise We don t need no voucher Yeah we the one s y all worried about We good we good keep us out your mouth If you don t know now you know nigga If you don t know now you know nigga ',\n",
       " 'flawless': ' Intro Your challengers are a young group from Houston Welcome Beyonc Lativia Nina Nicky Kelly and Ashley The Hip Hop Rappin Girls TYME I m out that H town coming coming down I m coming down drippin candy on the ground H H Town Town I m coming down Coming coming down dripping candy on the ground Verse 1 Beyonce I know when you were little girls You dreamt of being in my world Don t forget it don t forget it Respect that bow down bitches Crown I took some time to live my life But don t think I m just his little wife Don t get it twisted get it twisted This my shit bow down bitches Bow down bitches bow bow down bitches Crown Bow down bitches bow bow down bitches Crown H Town vicious H H Town vicious I m so crown crown bow down bitches I m out that H town coming coming down I m coming down drippin candy on the ground H H town town I m coming down Coming coming down Drippin candy on the ground Verse 2 Chimamanda Ngozi Adichie We teach girls to shrink themselves To make themselves smaller We say to girls You can have ambition But not too much You should aim to be successful But not too successful Otherwise you will threaten the man Because I am female I am expected to aspire to marriage I am expected to make my life choices Always keeping in mind that Marriage is the most important Now marriage can be a source of Joy and love and mutual support But why do we teach girls to aspire to marriage And we don t teach boys the same We raise girls to see each other as competitors Not for jobs or for accomplishments Which I think can be a good thing But for the attention of men We teach girls that they cannot be sexual beings In the way that boys are Feminist the person who believes in the social Political and economic equality of the sexes Verse 3 Beyonce You wake up flawless Post up flawless Ridin round in it flawless Flossin on that flawless This diamond flawless My diamond flawless This rock flawless My rock flawless I woke up like this I woke up like this We flawless ladies tell em I woke up like this I woke up like this We flawless ladies tell em Say I look so good tonight God damn God damn Say I look so good tonight God damn God damn God damn Momma taught me good home training My Daddy taught me how to love my haters My sister told me I should speak my mind My man made me feel so God damn fine I m flawless Verse 4 Beyonce You wake up flawless Post up flawless Riding round in it flawless Flossing on that flawless This diamond flawless My diamond flawless This rock flawless My rock flawless I woke up like this I woke up like this We flawless ladies tell em I woke up like this I woke up like this We flawless ladies tell em Say I look so good tonight God damn God damn Say I look so good tonight God damn God damn God damn Outro The Judges give champion Skeleton Crew 4 Stars A perfect score And the challenger Girls TYME receives 3 stars Skeleton Crew champions once again Congratulations we ll see you next week ',\n",
       " 'mine': ' Verse 1 Beyonce I been watching for the signs Took a trip to clear my mind oh Now I m even more lost You re still so fine All mine All mine Been having conversations about break ups and separations I m not feeling like myself since the baby Are we gonna even make it Oh Cause if we are We re taking this a little too far If we are We re taking this a little too far Baby if we are We re taking this a little too far With me being wherever I m at Worrying about wherever you are We re taking this a little too Far We re taking this a little too Far We re taking this a little too Far Hook 1 Drake Know you wanna roll with a good girl Do it big do it all for a good girl One time This is a song for the good girl Don t sleep when you know you got a good girl One time This is a song for the good girl Wanna roll wanna roll with a good girl One time This is a song for the good girl And I still keep it hood still treat you like I should What s up Verse 2 Beyonce On my mind up past my bed time No rest at the kingdom Alone in my place my heart is away All that I can think of is We should get married we should get married Let s stop holding back on this and let s get carried away Pre hook Stop making a big deal out of the little things Cause I got big deals and I got little things I got everything I m asking for but you Stop making a big deal out of the little things Let s get carried away Come right now you know where I stay Hook 2 Drake Beyonc I just wanna say you re mine you re mine I just wanna say you re mine you re mine Fuck what they heard you re mine you re mine All I m really asking for is you You re mine you re mine I just wanna say you re mine you re mine Fuck what they heard you re mine you re mine Long as you know who you belong to Hook 1 Drake Know you wanna roll with a good girl Do it big do it all for a good girl One time This is a song for the good girl Don t sleep when you know you got a good girl One time This is a song for the good girl Wanna roll wanna roll with a good girl One time This is a song for the good girl And I still keep it hood still treat you like I should What s up Verse 3 Drake Oh from 8 until late I think bout you You re on my nights I don t know what to do I can t get no rest can t get no sleep This whole thing got way too deep and we should Pre hook Stop making a big deal out of the little things Cause I got big deals and I got little things I got everything I m asking for but you Stop making a big deal out of the little things Let s get carried away Come right now you know where I stay Hook 2 Drake Beyonc I just wanna say you re mine you re mine I just wanna say you re mine you re mine Fuck what they heard you re mine you re mine All I m really asking for is you You re mine you re mine I just wanna say you re mine you re mine Fuck what they heard you re mine you re mine Long as you know who you belong to Hook 1 Drake Know you wanna roll with a good girl Do it big do it all for a good girl One time This is a song for the good girl Don t sleep when you know you got a good girl One time This is a song for the good girl Wanna roll wanna roll with a good girl One time This is a song for the good girl And I still keep it hood still treat you like I should What s up Verse 4 Drake Yo yo yo I gotta pull up on ya You gon make me have to pull up on ya Don t go ghost on me I mma go thriller on ya I mma just I mma let my hands do the talking when I see you Baby girl I miss feeling on ya I miss everything that s real about ya And that s everything about ya That s just how I feel about ya Been about you and I m still about you But We ain t finished talking I told ya you don t need to worry about them bitches All them fives need to listen when the 10 is talking Cause they don t wanna see you happier than them And girl you swear they all your friends and that s been a problem You the one they hate this come with that I know you think it s funny that your ex is not a running back But that nigga came running back You tell me you done with that And I believe it s true Long as you know who you belong to Outro All I m really asking for is you Yeah ',\n",
       " 'allnight': ' I found the truth beneath your lies And true love never has to hide Trade your broken wings for mine I ve seen your scars and kissed your crimes So many people that I know they re just tryna touch ya Kiss up and rub up and feel up Kiss up and rub up and feel up on ya Give you some time to prove that I can trust ya again I m gonna kiss up and rub up and feel up Kiss up and rub up and feel up on ya All night long All night yeah Good love All night long All night yeah Sweet love All night long All night yeah Love All night long All night yeah All I wanna Be no other Be together I remember Sweet love All night long My love was stronger than your pride Beyond your darkness I m your light You get deep you touch my mind Baptize your tears and dry your eyes So many people I know that they just trying to touch you Kiss up and rub up and feel up Kiss up and rub up and feel up on ya Give you some time to prove that I can trust ya again I m gonna kiss up and rub up and feel up Kiss up and rub up and feel up on ya All night long All night yeah Good love All night long All night yeah Sweet love All night long All night yeah Love All night long All night yeah All I wanna Be no other Be together I remember Sweet love All night long They say true love s the greatest weapon To win the war caused by pain But every diamond has imperfections But my love s too pure to watch it chip away Boy nothing real can be threatened True love breathes salvation back into me With every tear came redemption And my torturer became my remedy So many people I know that they just trying to touch you Kiss up and rub up and feel up Kiss up and rub up and feel up on ya Give you some time to prove that I can trust ya again I m gonna kiss up and rub up and feel up Kiss up and rub up and feel up on ya All night long All night yeah Good love All night long All night yeah Sweet love All night long All night yeah Love All night long All I wanna Be no other Be together I remember Sweet love All night long How I missed you my love ',\n",
       " 'beyonceinterlude': ' talking I believe that harmonies are colors Every time I paint it sharpens my harmony Yesterday I tried to paint you But the colors weren t beautiful enough Your love goes beyond what I can say Love Beyonce ',\n",
       " 'naughtygirl': ' I love to love you baby I love to love you baby I m feelin sexy I wanna hear you say my name boy If you can reach me You can feel my burning flame I m feelin kind of n a s t y I just might take you home with me Baby the minute i feel your energy Your vibe s just taken over me Start feelin so crazy babe Lately I feel the funk coming over me I don t know what s gotten into me The rhythm s got me feelin so crazy babe Tonight i ll be your naughty girl I m callin all my girls We re gonna turn this party out I know you want my body Tonight i ll be your naughty girl I m callin all my girls I see you look me up and down And i came to party You re so sexy tonight i am all yours boy The way your body moves across the floor You got me feelin n a s t y I just might take you home with me Baby the minute i feel your energy The vibe s just taken over me Start feelin so crazy babe Lately I feel the funk coming over me I don t know what s gotten into me The rhythm s got me feelin so crazy babe Tonight i ll be your naughty girl I m callin all my girls We re gonna turn this party out I know you want my body Tonight i ll be your naughty girl I m callin all my girls I see you look me up and down And i came to party I love to love you baby I love to love you baby I love to love you baby I love to love you baby Tonight i ll be your naughty girl I m callin all my girls We re gonna turn this party out I know you want my body Tonight i ll be your naughty girl I m callin all my girls I see you look me up and down And i came to party repeat to end ',\n",
       " 'ghosthaunted': ' Intro Presenter The winner is Beyonce Knowles female pop vocalist Intro I would like to thank the judges for picking me My parents who I love I love you Houston Verse 1 And I ve been drifting off of knowledge Cat calls on cat walks man these women getting solemn I could sing a psalm for a Solomon or Salamander We took a flight at midnight and now my mind can t help but wander How come Spoon fed pluralized eyes to find the beaches in the forest When I m looking off the edge I preach my gut it can t help but ignore it I m climbing up the walls cause all the shit I hear is boring All the shit I do is boring All these record labels boring I don t trust these record labels I m touring All these people on the planet Working 9 to 5 just to stay alive The 9 to 5 just to stay alive The 9 to 5 just to stay alive The 9 to 5 just to stay alive The 9 to 5 just to stay alive The 9 to 5 just to stay alive The 9 to 5 just to stay alive All the people on the planet Working 9 to 5 just to stay alive How come What goes up ghost around Ghost around around around around What goes up ghost around Ghost around around around around Ah rou ou und ah rou ou und ah rou ou und ah rou ou und Ah rou ou und ah rou ou und ah rou ou und ah rou ou und Ah rou ou und ah rou ou und ah rou ou und ah rou ou und Ah rou ou und ah rou ou und ah rou ou und ah rou ou und Ah rou ou und ah rou ou und ah rou ou und ah rou ou und Ah rou ou und ah rou ou und ah rou ou und ah rou ou und Ah rou ou und ah rou ou und ah rou ou und ah rou ou und Soul not for sale Probably won t make no money off this oh well Reap what you sow Perfection is so Mm Verse 2 It s what you do It s what you see I know if I m haunting you You must be haunting me It s where we go It s where we ll be I know if I m on to you I m on to you On to you you must be on to me My haunted lungs Ghost in the sheets I know if I m haunting you You must be haunting me My wicked tongue Where will it be I know if I m on to you I m on to you On to you I m on to you On to you you must be on to me You want me I walk down the hallway You re lucky The bedroom s the wrong way Slap me I m pinned to the doorway Kiss bite foreplay Verse 3 My haunted lungs Ghost in the sheets I know if I m haunting you You must be haunting me My wicked tongue Where will it be I know if I m on to you You must be on to me It s what we see I know if I m haunting you You must be haunting me It s where we go It s where we ll be I know if I m on to you I m onto you Onto you I m on to you Onto you you must be onto me You must be on to me on to you I m on to you You must be on to me on to you I m on to you You must be on to me on to you I m on to you Outro Me on to you I m on to you Me on to you I m on to you Me on to you I m on to you Me on to you I m on to you Me on to you I m on to you ',\n",
       " 'lovehappy': ' Happily in love haters please forgive me I let my wife write the will I pray my children outlive me I give my daughter my custom dresses so she gon be litty Vintage pieces by the time she hit the city yeah ah Vintage frames I see nobody fuckin wit him Pretty thug out the third ward hit me Sir asked it like his dad s shit is trippy uh huh Twinning Blue and Rumi me and Solo are winning Happy in love Sitting dock of the bay wit a big yacht Sippin Yamazaki on the rocks He went to Jared I went to Chaumet out in Paris Yeah you fucked up the first stone we had to get remarried Yo chill man We keepin it real with these people right Lucky I ain t kill you when I met that b nah aight aight Y all know how I met her we broke up and got back together To get her back I had to sweat her Y all could make up with a bag I had to change the weather Move the whole family West but it s whatever In a glass house still throwing stones Hova Beysus watch the thrones Happy in love You did some things to me boy you do some things to me But love is deeper than your pain and I believe you can change Baby the ups and downs are worth it long way to go but we ll work it We re flawed but we re still perfect for each other Sometimes I thought we d never see the light Went through hell with heaven on our side This beach ain t always been no paradise But nightmares only last one night Happy in love No more clubs and Cali curfews one night Just private affairs in a tighter circle Large format wines in small settings woo Just hood ass nigga s in designer suits Follow my moves on a truth in Ala a boots yeah yeah Amelia Earhart flyer than who yeah yeah Fake news y all choose we no lie No photoshop just real life Happy in love You did some things to me boy you do some things to me But love is deeper than your pain and I believe you can change Baby the ups and downs are worth it long way to go but we ll work it We re flawed but we re still perfect for each other Sometimes I thought we d never see the light Went through hell with heaven on our side This beach ain t always been no paradise But nightmares only last one night Damn look at us now Pray pray for the vows Way up now yes and a way long way down We came and we saw and we conquered it all We came and we conquered now we re happy in love ',\n",
       " 'djvu': ' Intro Beyonce Bass Jay Z Uh Beyonce Hi hat Jay Z Uh Beyonce 808 Jay Z Uh Beyonce Jay Jay Z Uh huh Ready Uh huh Beyonce Let s go get em Jay Z Uh huh C mon Jay Z Rap I used to run base like Juan Pierre Now I run the bass hi hat and the snare I used to bag girls like Birkin Bags Now I bag B Beyonce Boy you hurtin that Brooklyn Bay where they birthed me at Now I be everywhere the nerve of rap The audacity to have me whipping curtains back Me and B she about to sting Stand back Verse 1 Baby seems like everywhere I go I see you from your eyes your smile It s like I breathe you helplessly I reminisce Don t want to compare nobody to you Pre Hook Boy I try to catch myself But I m out of control Your sexiness is so appealing I can t let it go Oh Hook Know that I can t get over you Cause everything I see is you And I don t want no substitute Baby I swear it s Deja Vu Know that I can t get over you Cause everything I see is you And I don t want no substitute Baby I swear it s Deja Vu Verse 2 Seeing things that I know can t be Am I dreaming When I saw you walking past me Almost called your name Got a better glimpse and then I looked away It s like I m losing it Pre hook Boy I try to catch myself But I m out of control Your sexiness is so appealing I can t let it go oh Hook Know that I can t get over you Cause everything I see is you And I don t want no substitute Baby I swear it s Deja Vu Know that I can t get over you Cause everything I see is you And I don t want no substitute Baby I swear it s Deja Vu Jay Z Rap 2 Yes Hova s flow so unusual Baby girl you should already know It s H O light up the dro Cause you gon need help tryna study my bounce flow blow What s the difference One you take in vein while the other you sniffin It s still dough po po try to convict him That s a no go My dough keep the scales tipping like 4 4 s Like I m from the H O U S T O N Blow wind so Chicago of him Is he the best ever that s the argu a ment I don t make the list don t be mad at me I just make the hits like a factory I m just one to one nothin after me No Deja Vu just me and my Oh Bridge Baby I can t go anywhere Without thinking that you re there Seems like you re everywhere it s true Gotta be having Deja Vu Cause in my mind I want you here Get on the next plane I don t care Is it because I m missing you That I m having Deja Vu Pre hook Boy I try to catch myself But I m out of control Your sexiness is so appealing I can t let it go Whoo Hook Know that I can t get over you Cause everything I see is you And I don t want no substitute Baby I swear it s Deja Vu Know that I can t get over you Cause everything I see is you And I don t want no substitute Baby I swear it s Deja Vu Know that I can t get over you Cause everything I see is you And I don t want no substitute Baby I swear it s Deja Vu Know that I can t get over you Cause everything I see is you And I don t want no substitute Baby I swear it s Deja Vu ',\n",
       " 'singleladiesputaringonit': ' All the single ladies all the single ladies All the single ladies all the single ladies All the single ladies all the single ladies All the single ladies Now put your hands up Up in the club we just broke up I m doing my own little thing You decided to dip but now you wanna trip Cause another brother noticed me I m up on him he up on me Don t pay him any attention Cause I cried my tears For three good years Ya can t be mad at me Cause if you like it then you should have put a ring on it If you like it then you should ve put a ring on it Don t be mad once you see that he want it If you like it then you should ve put a ring on it Whoa uh oh uh uh oh oh uh oh uh uh oh Whoa uh oh uh uh oh oh uh oh uh uh oh If you like it then you should have put a ring on it If you like it then you should ve put a ring on it Don t be mad once you see that he want it If you like it then you should ve put a ring on it I got gloss on my lips a man on my hips Hold me tighter than my Dereon jeans Acting up drink in my cup I can t care less what you think I need no permission did I mention Don t pay him any attention Cause you had your turn And now you gonna learn What it really feels like to miss me Cause if you like it then you should have put a ring on it If you like it then you should ve put a ring on it Don t be mad once you see that he want it If you like it then you should ve put a ring on it Whoa uh oh uh uh oh oh uh oh uh uh oh Whoa uh oh uh uh oh oh uh oh uh uh oh If you like it then you should have put a ring on it If you like it then you should ve put a ring on it Don t be mad once you see that he want it If you like it then you should ve put a ring on it Whoa uh oh uh uh oh oh uh oh uh uh oh Whoa uh oh uh uh oh oh uh oh uh uh oh Don t treat me to these things of the world I m not that kind of girl Your love is what I prefer what I deserve Here s a man that makes me then takes me And delivers me to a destiny to infinity and beyond Pull me into your arms Say I m the one you want If you don t you ll be alone And like a ghost I ll be gone All the single ladies all the single ladies All the single ladies all the single ladies All the single ladies all the single ladies All the single ladies Now put your hands up Whoa uh oh uh uh oh oh uh oh uh uh oh Whoa uh oh uh uh oh oh uh oh uh uh oh If you like it then you should have put a ring on it If you like it then you should ve put a ring on it Don t be mad once you see that he want it If you like it then you should ve put a ring on it Whoa uh oh If you like it then you should have put a ring on it If you like it then you should ve put a ring on it Don t be mad once you see that he want it If you like it then you should ve put a ring on it Whoa uh oh ',\n",
       " 'prayyoucatchme': ' You can taste the dishonesty it s all over your breath As you pass it off so cavalier but even that s a test Constantly aware of it all my lonely ear Pressed against the walls of your world Pray to catch you whispering I pray you catch me listening I m praying to catch you whispering I pray you catch me I m praying to catch you whispering I pray you catch me listening I pray you catch me Nothing else ever seems to hurt like the smile on your face When it s only in my memory it don t hit me quite the same Maybe it s a cause for concern but I m not at ease Keeping my head to the curb Pray to catch you whispering I pray you catch me listening I pray to catch you whispering whispering whispering I pray you catch me whispering whispering I pray you catch me I pray you catch me praying I m praying you catch me What are you doin my love ',\n",
       " 'amorgitano': ' Beyonce Ven y qu date conmigo Dame el coraz n vida m a estoy muriendo lento en mi prisi n Alejandro Anda dime lo que sientes quitate el pudor y deja de sufrir escapa con mi amor Y despu s te llevare hasta donde quieras sin temor y sin fronteras hasta donde sale el sol Beyonce Contigo soy capaz de lo que sea no me importa lo que venga porque ya se a donde voy Alejandro Soy tu gitano tu peregrino la nica llave de tu destino el que te cuida m s que a su vida soy tu ladr n Beyonce Soy tu gitana tu compa era la que te sigue la que te espera voy a quererte aunque me saquen el coraz n Alejandro Y aunque nos cueste la vida Beyonce Y aunque duela lo que duela Alejandro Esta guerra la ha ganado nuestro amor Beyonce Esta guerra la ha ganado nuestro amor Beyonce Yo nac para tus ojos para nadie m s Siempre voy a estar en tu camino Alejandro Alma de mi alma coraz n de tempestad Dime por donde ir Y despu s te llevare hasta donde quieras sin temor y sin fronteras hasta donde sale el sol Beyonce Contigo soy capaz de lo que sea no me importa lo que venga porque ya se a donde voy Alejandro Soy tu gitano tu peregrino la nica llave de tu destino el que te cuida m s que a su vida soy tu ladr n Beyonce Soy tu gitana tu compa era la que te sigue la que te espera voy a quererte aunque me saquen el coraz n Alejandro Y aunque nos cueste la vida Beyonce Y aunque duela lo que duela Alejandro Esta guerra la ha ganado nuestro amor Beyonce Y aunque nos cueste la vida Alejandro Y aunque duela lo que duela Beyonce Esta guerra la ha ganado Both Nuestro amor ',\n",
       " 'resentment': ' I wish I could believe you Then I ll be alright But now everything you told me Really don t apply To the way I feel inside Loving you was easy Once upon a time But now my suspicions of you Have multiplied And it s all because you lied I only give you a hard time Cause I can t go on and pretend like I haven t tried to forgive this But I m much too full of resentment Just can t seem to get over The way you hurt me Don t know how you gave another Who didn t mean a thing no The very thing you gave to me I thought I could forgive you And I know you ve changed As much as I wanna trust you I know it ain t the same And it s all because you lied I only give you a hard time Cause I can t go on and pretend like I haven t tried to forgive this But I m much too full of resentment I may never understand why I m doing the best that I can I tried and I tried to forgive this But I m much too full of resentment I always remember feelin Like I was no good Like I couldn t do it for you Like your mistress could And it s all because you lied Loved you more than ever More than my own life The best part of me I gave you It was sacrificed And it s all because you lied I only give you a hard time Cause I can t go on and pretend like I tried and I tried to forgive this But I m too damn full of resentment I know she was attractive But I was here first Been riding with you for 6 years Why did I deserve To be treated this way by you I know you re probably thinking What s up with b I ve been crying for too long What did you do to me I used to be so strong Now you took my soul I m crying Can t stop crying Can t stop crying You could ve told me You wasn t happy I know you didn t want to hurt me Look at what you ve done to me now I gotta look at her in her eyes And see she s had half of me You lied How could you lie You lied ',\n",
       " 'lostyomind': ' O M G You done lost yo motherfucking mind Chorus You Must Have Lost Yo Mind you must ve just lost yo mind yo mind you must ve just lost yo mind yo mind they told me bout all the lies the lies I took you back all those times times You Must Have Lost Yo Mind lost yo mind you must ve just lost yo mind yo mind that chloe crop bag ain t mine wasn t mine many earrings must I find I find you must ve just lost yo mind Verse 1 I could shed so many tears But I won t let you see me crying Now it all adds up hey Even the numbers yea Let me exactly hear oh But you you wonder yea I know how my mama felt yea Getting ran over yea But this ain t a cycle here oh This one is over yea Something told me to check my time If I m the one that s always crying Pre chorus Now that it s over hey I can move on from here yea Glad that it s over oh So glad that it s over yea I could ve told ya hey It s all in the atmosphere yea I can t control ya oh But I m not a pushover no more yea Chorus Oh You oh Must oh Have oh Lost oh Yo oh Mind oh you must ve just lost yo mind lost yo mind you must ve just lost yo mind lost yo mind they told me bout all the lies all the lies I took you back all those times oh You oh Must oh Have oh Lost oh Yo oh Mind you must ve just lost yo mind yo mind that chloe crop bag ain t mine wasn t mine many earrings must I find I find you must ve just lost yo mind Verse 2 You oh could shed oh so oh many oh tears oh But you won t let me see you crying If she really loves ya hey Than that s what ya need to build yea I m more than yo woman oh I know you don t love her yea I painted it for ya hey But you picked the colors yea At night you ll get over oh Yea like you will never yea I trusted oh you through oh all these years oh I m oh the one oh that s always crying oh Pre chorus Now that it s over hey I can move on from here yea Glad that it s over oh So glad that it s over yea Now that I told ya hey Exactly the pain I feel yea Reap what you sow boy oh I m not a pushover no more yea Chorus You oh Must oh Have oh Lost oh Yo oh Mind oh you must ve just lost yo mind you lost it lost yo mind you must ve just lost yo mind lost yo mind hey they told me bout all the lies all the lies I took you back all those times I took you back too many times You oh Must must oh Have have oh Lost lost oh Yo yo oh Mind mind oh you must ve just lost yo mind lost yo mind that chloe crop bag ain t mine that chloe crop bag it wasn t mine wasn t mine many earrings must I find hey you must ve just lost yo mind Bridge I always knew you were counterfeit That s what you get I see you crying you lost yo mind Excuses after excuses you lost yo mind Pretending that we exclusive you lost yo mind I stuck around all these years you lost yo mind I dried and cried all yo tears oh oh I trusted oh you despite my fears oh I oh refuse oh to keep oh on trying oh Pre chorus Now that it s over hey I can move on boy yea Glad that it s over oh So glad that it s over yea You just confirmed it hey This ain t a warning yea Ya living a double life oh You must ve lost ya mind yea Chorus You oh Must oh Have oh Lost oh Yo oh Mind oh you must ve just lost yo mind you crazy you must ve just lost yo mind you crazy they told me bout all the lies you lost yo mind I took you back all those times tell you one mo time you must ve just lost yo mind you lost yo mind that chloe crop bag ain t mine it was not mine many earrings must I find hey you must ve just lost yo mind you must ve just lost yo mind You Just Lost Yo Mind ',\n",
       " 'giftfromvirgo': ' I wish i could look in your eyes And tell you how i feel Right now inside Baby i know that it s real So real so real so real How i wish i could be with you How i wish i wish i wish i could be with you right now Every morning every afternoon every night I wanna be with you It don t matter if we go to the park or watch a play Stay in the hotel room all day I just wanna be with you I love everything about you From your old school tennis shoes To the way you move when you re dancing with me Do you remember our first kiss It wasn t long enough Remember the first time We spent those weeks together They were not long enough All of our conversations All of your sweet pages They re never long enough When it s time for me to leave It s so hard to say good bye I never want to say good bye I never ever want to say good bye One day we ll make love Finally i ll be yours Only you only you I could love you It s too late I already love you I love you I love you I love you ',\n",
       " 'bestthingineverhad': ' What goes around comes back around hey my baby What goes around comes back around hey my baby I say what goes around comes back around hey my baby What goes around comes back around There was a time I thought that you did everything right No lies no wrong Boy I must ve been out of my mind So when I think of the time that I almost loved you You showed your ass and I I saw the real you Thank God you blew it I thank God I dodged the bullet I m so over you So baby good lookin out I wanted you bad I m so through with that Cause honestly you turned out to be the best thing I never had You turned out to be the best thing I never had And I m gon always be the best thing you never had Oh yeah I bet it sucks to be you right now So sad you re hurt Boo hoo oh did you expect me to care You don t deserve my tears I guess that s why they ain t there When I think that there was a time that I almost loved you You showed your ass and baby yes I saw the real you Thank God you blew it I thank God I dodged the bullet I m so over you Baby good lookin out I wanted you bad I m so through with that Cause honestly you turned out to be the best thing I never had I said you turned out to be the best thing I never had And I ll never be the best thing you never had Oh baby I bet it sucks to be you right now I know you want me back It s time to face the facts That I m the one that s got away Lord knows that it would take another place another time another world another life Thank God I found the good in goodbye I used to want you so bad I m so through with that Cause honestly you turned out to be the best thing I never had Oh you turned out to be the best thing I never had And I will always be the best thing you never had Oh best thing you never had I used to want you so bad I m so through with that Cause honestly you turned out to be the best thing I never had Oh you turned out to be the best thing I never had Oh I will never be the best thing you never had Oh baby I bet it sucks to be you right now What goes around comes back around What goes around comes back around I bet it sucks to be you right now What goes around comes back around I bet it sucks to be you right now What goes around comes back around I bet it sucks to be you right now ',\n",
       " 'kittykat': ' You know I hate sleeping alone But you said that you would soon be home But baby that was a long time ago I m not feelin it 2x On top of you not calling me back You see I bet you think it s all on track And you actin like it s all a dat I m not feelin it 2x Let s go let s go Little Kitty Kat I think it s time to go let s go Little Kitty Kat He don t want no mo Let s go Little Kitty Kat Quite frankly No mo getting it I m not feeling it It s like we at 2 places but different paces We in trouble but you won t meet me at the bridge It hurts and feels discerning Did you forget where your heart lives What about my body body You don t want my body body Acting like I m not nobody You gon make me call somebody What about my body body What about my body body You would rather go and party Somehow somewhere I ll be naughty You know I hate sleeping alone But you said that you would soon be home Baby that was a long time ago I m not feelin it 2x On top of you not calling me back You see I bet you think it s all on track And you actin like it s all a dat I m not feelin it 2x Let s go let s go Little Kitty Kat I think its time to go let s go Little Kitty Kat He don t want no mo let s go Little Kitty Kat Quite frankly No mo getting it I m not feeling it Let me show you how to get there Take a left to compassion lights will be flashing Keep straight and you ll see the sign right there Affection You re in the wrong direction If I get caught see it just seems that you don t care What about my body body You don t want my body body Acting like I m not nobody You gon make me call somebody What about my body body What about my body body You would rather go and party Somehow somewhere I ll be naughty You know I hate sleeping alone But you said that you would soon be home But baby that was a long time ago I m not feelin it 2x On top of you not calling me back You see I bet you think it s all on track And you actin like it s alla dat you re sex ain t all that I m not feelin it 2x Let s go let s go Little Kitty Kat I think it s time to go let s go Little Kitty Kat He don t want no mo let s go Little Kitty Kat Quite frankly No mo getting it I m not feeling it I m taking back the things I got from you you And that includes my sweet little nooky too too Let s go Let s go let s go little Kitty Kat Kitty Kat He don t want you anymore Nooooooooooo 2x Spoken Got diamonds on my neck Got diamonds on my records Since 16 I was coming down ridin Lexus How you gon neglect this You is just a hot mess You can call Tyrone You ain t gots to lie Craig What about my body body You don t want my body body I m in the house all alone you rather go and party What about my body body You don t want my body body Acting like I m nobody You gon make me call somebody Let s go let s go little Kitty Kat I think it s time to go Let s Go Little Kitty Kat He ain t want no mo Let s go Little Kitty Kat No mo getting it I m not feelin it ',\n",
       " 'getmebodiedextendedremix': ' Intro 9 4 81 B Day Verse 1 Mission one I ma put this on When he see me in the dress I ma get me some hey Mission two Gotta make that call Tell him get the bottles poppin when they play my song hey Mission three Got my three best friends Like we do it all the time we gone do it again hey Mission four Got the vintage Rolls Drop a couple hundreds tell him leave it at the door Pre Chorus I ain t worried doing me tonight A little sweat ain t never hurt nobody While you all standin on the wall I m the one tonight Getting bodied getting bodied getting bodied getting bodied getting bodied Want my body Won t you get me bodied You want my body Won t you get me bodied hey Chorus Can you get me bodied I wanna be myself tonight Can you get me bodied I wanna be myself tonight Won t you sing my body I want to let it out tonight Wanna party wanna dance wanna be myself tonight me bodied Verse 2 Mission five Skip to the front of the line Let me fix my hair up fore I go inside hey Mission six Gotta check these chicks Cause you know they gone block when I take these flicks hey Mission seven Gotta make my rounds Given eyes to the guys now I think I found him hey Mission eight Now we conversate And we can skip small talk let s get right to the chase hey Pre Chorus You should see my body I gotta know enough to know if you can get me bodied I m kinda tight I m feeling right enough to see somebody I wanna let it off tonight Wanna dance wanna party wanna be myself tonight Baby all I want is to let it go Ain t no worries oh We can dance all night Get me bodied That means come closer to me While we grind to the beat And your body s touching my body All I need is to let it be Ain t no worry no Boy dance with me Feel my body Don t stop just come closer to me While we grind to the beat With your body touching my body Get somebody Ain t no shame cause I gotta get mine I swing my hair kick off my shoes Come her boy let me work on you Pre Chorus Bridge Ladies on the floor all my ladies on the floor if you ready get it ready lets get it and drop it Drop down low and sweep the floor wit it drop drop down low and sweep the floor wit it Drop down low and sweep the floor wit it drop drop down low and sweep the floor wit it Do the uh oh do the uh oh do the uh oh uh oh uh oh oh no no uh oh do the uh oh do the uh oh uh oh uh oh oh no no Pat your weaves ladies pat pat pat your weaves ladies watch it while he check up on it Pat your weaves ladies pat pat pat your weaves ladies watch it while he check up on it Tick tick tick tick fight now tick tick tick tick tick tick fight now tick tick tick tick fight now tick tick tick tick tick tick fight Now pose for the camera now flick flick flick pose for the camera now flick flick flick pose for the camera now flick flick flick pose for the camera now flick flick flick Do an old school dance an old school dance an old school dance do an old school Do an old school dance an old school dance an old school dance get old school Stop now cool off cool off cool off cool off Drop and cool off cool off cool off cool off Wind it back girl wind it back girl make your hair touch the floor wine it back Wind it back girl wind it back girl make your hair touch the floor wine it back Drop to your knees arch your back girl shake shake it like that alley cat Drop drop to your knees arch your back girl shake shake it like that alley cat Shake ya derriere in them Dereon s Shake shake ya diary air in the House of Dereon Shake ya derriere in them Dereon s Shake shake ya diary air in the House of Dereon Do the scissor leg touch ya heels touch ya toes Do the scissor leg touch ya heels touch ya toes Do the scissor leg touch ya heels touch ya toes Do the scissor leg touch ya heels touch ya toes Do the Naomi Campbell walk Naomi Campbell walk Walk across the room like Naomi Campbell Do the Naomi Campbell walk Naomi Campbell walk Walk across the room like Naomi Campbell Snap for the kids snap for the kids Snap in a circle three times Snap for the kids snap for the kids Snap in a circle three times I touch ya body while ya touch my body We touching bodies tonight We getting bodied I touch ya body while ya touch my body We touching bodies tonight We getting bodied Gettin bodied gettin bodied Gettin bodied gettin bodied Gettin bodied I m the only one tonight Gettin bodied gettin bodied Want my body get me body Won t ya get me body get me body You want my body I m the only one tonight Won t ya get me bodied get me bodied Hey ',\n",
       " 'prettyhurts': ' Harvey Keitel Ms Third ward your first question what is your aspiration in life Beyonc Oh My aspiration in life would be to be happy Uh huh huh Uh huh huh Uh huh huh Verse 1 Mama said You re a pretty girl What s in your head it doesn t matter Brush your hair fix your teeth What you wear is all that matters Pre Hook Just another stage pageant the pain away This time I m gonna take the crown Without falling down down down Hook Pretty hurts we shine the light on whatever s worst Perfection is a disease of a nation pretty hurts pretty hurts Pretty hurts we shine the light on whatever s worst We try to fix something but you can t fix what you can t see It s the soul that needs the surgery Uh huh huh Verse 2 Blonder hair flat chest TV says Bigger is better South beach sugar free Vogue says Thinner is better Pre Hook Just another stage pageant the pain away This time I m gonna take the crown Without falling down down down Hook Pretty hurts we shine the light on whatever s worst Perfection is a disease of a nation pretty hurts pretty hurts pretty hurts Pretty hurts pretty hurts we shine the light on whatever s worst We try to fix something but you can t fix what you can t see It s the soul that needs the surgery Bridge Ain t got no doctor or pill that can take the pain away The pain s inside and nobody frees you from your body It s the soul it s the soul that needs surgery It s my soul that needs surgery Plastic smiles and denial can only take you so far Then you break when the fake facade leaves you in the dark You left with shattered mirrors and the shards of a beautiful girl Hook Pretty hurts we shine the light on whatever s worst pretty hurts Perfection is a disease of a nation pretty hurts pretty hurts Pretty hurts we shine the light on whatever s worst We try to fix something but you can t fix what you can t see It s the soul that needs the surgery Outro When you re alone all by yourself pretty hurts pretty hurts And you re lying in your bed pretty hurts pretty hurts Reflection stares right into you pretty hurts pretty hurts Are you happy with yourself pretty hurts pretty hurts You stripped away the masquerade pretty hurts pretty hurts The illusion has been shed pretty hurts pretty hurts Are you happy with yourself pretty hurts pretty hurts Are you happy with yourself pretty hurts pretty hurts Yes Uh huh huh ',\n",
       " 'welcometohollywood': ' It ain t for everybody Uh Welcome to Hollywood baby Take a picture Uh huh You re coming with Let s not even talk about it Let s do it Let s Go I see your jealousy as you re watching You re watching It s kinda sexy to me how you re watching You re watching I see your face I see your face You wanna touch it You wanna touch it Come to my place Come to my place And let s discuss it Let s chop it up Tonight you ll be A superstar Come let me sign you up Let s get into it Oh it s the lights You re blinded by the Action You need that Hollywood Oh it s the lights You re blinded by the Satisfaction You need that Hollywood You got to get it Oh oh oh oh Oh oh oh Do you want it Oh oh oh oh Oh oh oh But you don t need it Oh oh oh oh Oh oh oh What do you do Oh oh oh What do you do Oh oh oh Hey I see your face I see your face You wanna touch it You wanna touch it Come to my place Come to my place And let s discuss it Let s chop it up Tonight you ll be A superstar Come let me sign you up Ooh it s the lights It s the lights Action Action Hollywood Hollywood Ooh it s the lights Satisfaction Satisfaction So addictive Hey Hollywood Hollywood You hear it screaming Oh oh oh oh Oh oh oh Camera s rolling Oh oh oh oh Oh oh oh So addictive Oh oh oh oh Oh oh oh Like Hollywood Oh oh oh oh Oh oh oh And everybody warning you about it And once you taste you can t live without it Not cause you choose to not live without it It s now a part of you It s now a part of you And everybody warning you about it And once you taste you can t live Ooh it s the lights It s the lights Action Action Hollywood Hollywood Ooh it s the lights Satisfaction Satisfaction So addictive Hey Hollywood Hollywood Now you wanna be seen Male groupies Now you become what you once despised James Dean John Belushi Blow your whole life Tryna live in the lights Heroins following Marilyn Hoppin Over the edges Just like Janice Joplin River Phoenix Jimi Hendrix Jamie Morrison All of them ended by Hollywood I see your face and a you wanna touch it yeah Come to my place and we we can discuss it Hollywood welcome to Hollywood ',\n",
       " 'rocket': ' Let me sit this ass on you Show you how I feel Let me take this off Will you watch me That s mass appeal Don t take your eyes Don t take your eyes off it Watch it babe If you like you can touch it babe Do you do you wanna touch it baby Grab a hold Don t let go Let me know That you ready I just wanna Show you now Slow it down Go around You rock hard I rock steady Hook And rock right up to the side of my mountain Climb until you reach my peak babe the peak babe the peak And reach right into the bottom of my fountain I wanna play in your deep babe the deep babe the deep Then dip me under where you can feel my river flow and flow Hold me til I scream for air to breathe And wash me over until my well runs dry Send all your sins all over me babe me babe me Rock it til waterfalls Rock it til waterfalls Rock it til waterfalls Bathe in these waterfalls I do it like it s my profession I gotta make a confession I m proud of all this bass Could you put it in your face By the way if you need a personal trainer or a therapist I can be your piece of sunshine inner peace entertainer Anything else that you may read between the lines You and I create Rockets and waterfalls Hook So rock right up to the side of my mountain Climb until you reach my peak babe the peak babe the peak And reach right into the bottom of my fountain I wanna play in your deep babe the deep babe the deep Then dip me under where you can feel my river flow and flow Hold me til I scream for air to breathe And wash me over until my well runs dry Send all your sins all over me babe me babe me Hard Rock steady rock hard Rock steady rock hard Rock steady rock hard Rock steady Don t you know that I give you good loving If you need it I give you my word You can believe it Your love feels like All four seasons Growing inside me Life has a reason Swimming in my love your love lifting Higher harder Got me screaming to the lord boy Kiss me Pray we don t overflow Baby I know you can feel it pulse Deep in the peak of my waterfalls Rock it baby rock it baby rock it til the water falls down Damn I can t help but love the way we make love Daddy daddy Ooh child ooh now Yes lord Damn baby You re driving me cray cray You ain t right for doing it to me like that daddy Even though I ve been a bad bad bad bad bad bad bad bad bad bad bad bad girl Tell me what you re gonna do about that Punish me please Punish me please Daddy what you re gon do with all this ass All up in your face Yeah hell yeah Love me so deep Ooh my shit s so good it ain t even right I know I m right Hell yeah you the shit That s why you re my equivalent So sexy We re so much more than pointless fixtures Instagram pictures Consumers What about that ching ching ching what about that what about that ching ching Baby boomers baby baby baby baby baby baby Cyclical trends tryna fit in Home is where the heart is Goddammit I m comfortable in my skin And you re Comfortable in my skin You look so comfortable in my skin skin skin Rockets til waterfalls ',\n",
       " 'flawsandall': ' I m a train wreck in the morning I m a bitch in the afternoon Every now and then without warning I can be really mean towards you I m a puzzle yes indeed Ever complex in every way And all the pieces aren t even in the box And yet you see the picture clear as day I don t know why you love me And that s why I love you You catch me when I fall Accept me flaws and all And that s why I love you I neglect you when I m working When I need attention I tend to nag I m a host of imperfection And you see past all that I m a peasant by some standards But in your eyes I m a queen You see potential in all my flaws And that s exactly what I mean I don t know why you love me And that s why I love you You catch me when I fall Accept me flaws and all And that s why I love you And that s why I love you And that s why I love you I don t know why you love me And that s why I love you You catch me when I fall Accept me flaws and all And that s why I love you And that s why I love you And that s why I love you ',\n",
       " 'babyboy': ' Certified quality A dat da girl dem need and dem not stop cry without apology Buck dem da right way dat my policy Sean Paul alongside now hear what da man say Beyonce Dutty ya dutty ya dutty ya Beyonce sing it now ya Baby boy you stay on my mind Fulfill my fantasies I think about you all the time I see you in my dreams Baby boy not a day goes by Without my fantasies I think about you all the time I see you in my dreams Aah oh my baby s fly baby oh Yes no hurt me so good baby oh I m so wrapped up in your love let me go Let me breathe stay out my fantasies Ya ready gimme da ting dat ya ready get ya live And tell me all about da tings that you will fantasize I know you dig da way me step da way me make my stride Follow your feelings baby girl b c they cannot be denied Come check me in a night and make we get it amplified Me have da ting to run da ship cause I m go slip and I m go slide And in the words of love I got ta get it certified But I give you da toughest longest kinda ride girl Baby boy you stay on my mind Fulfill my fantasies I think about you all the time I see you in my dreams Baby boy not a day goes by Without my fantasies I think about you all the time I see you in my dreams Picture us dancin real close In a dark dark corner of a basement party Every time I close my eyes It s like everyone left but you and me In our own little world The music is the sun The dance floor becomes the sea Feels like true paradise to me Baby boy you stay on my mind Fulfill my fantasies I think about you all the time I see you in my dreams Baby boy not a day goes by Without my fantasies I think about you all the time I see you in my dreams Baby boy you stay on my mind Baby boy you are so damn fine Baby boy won t you be mine Baby boy let s conceive an angel Top top girl Me and you together is a wrap dat girl Driving around da town in your drop top girl You no stop shock girl Little more da dutty we ll rock dat world Top top girl Me and you together is a wrap dat girl Driving around da town in your drop top girl You no stop shock girl Little more da dutty we ll rock dat world Baby boy you stay on my mind Fulfill my fantasies I think about you all the time I see you in my dreams We stepping in hotter this year We stepping in hotter this year I know you gon like it I know you gon like it I m stepping in hotter this year I m stepping in hotter this year So don t you fight it So don t you fight it Repeat to end ',\n",
       " 'crazyinlove': ' Jay Z Yes It s so crazy right now Most incredibly it s your girl B It s your boy young Beyonce You ready Uh oh uh oh uh oh oh no no Uh oh uh oh uh oh oh no no Uh oh uh oh uh oh oh no no Uh oh uh oh uh oh oh no no Jay Z Yeah history in the making Part 2 it s so crazy right now Beyonce I look and stare so deep in your eyes I touch on you more and more every time When you leave I m begging you not to go Call your name two three times in a row Such a funny thing for me to try to explain How I m feeling and my pride is the one to blame Cause I know I don t understand Just how your love can do what no one else can Got me looking so crazy right now Your love s got me looking so crazy right now Your love got me looking so crazy right now Your touch got me looking so crazy right now Your touch got me hoping you ll page me right now Your kiss got me hoping you ll save me right now Looking so crazy Your love s got me looking got me looking so crazy Your love Uh oh uh oh uh oh oh no no Uh oh uh oh uh oh oh no no Uh oh uh oh uh oh oh no no Uh oh uh oh uh oh oh no no When I talk to my friends so quietly Who he think he is Look at what you did to me Tennis shoes don t even need to buy a new dress If you ain t there ain t nobody else to impress It s the way that you know what I thought I knew It s the beat my heart skips when I m with you But I still don t understand Just how the love you re doing no one else can Got me looking so crazy right now Your love s got me looking so crazy right now oh crazy Got me looking so crazy right now Your touch you re in love got me looking so crazy right now love Got me hoping you ll page me right now Your kiss got me hoping you ll save me right now Looking so crazy Your love s got me looking got me looking so crazy Your love I m looking so crazy Your love s got me looking got me looking so crazy your love Jay Z Beyonce I m on that now let s go Young Hov y all know when the flow is loco Young B and the R O C O G Big Homie the one and only Stick bony But the pocket is fat like Tony Soprano the ROC handle like Van Exel I shake phonies man you can t get next to The genuine article I do not sing though I sling though if anything I bling yo Star like Ringo war like a Green Beret Crazy bring your whole set Jay Z in the range Crazy and deranged They can t figure them out they like hey is he insane Yes sir I m cut from a different cloth My texture is the best fur chinchilla Uh oh uh oh uh oh oh no no I ve been iller than chain smokers How you think I got the name Hova Uh oh uh oh uh oh oh no no I been realer the game s over Uh oh uh oh uh oh oh no no Fall back young ever since I made the change over Uh oh uh oh uh oh oh no no To platinum the game s been a wrap one Beyonce Got me looking so crazy my baby I m not myself lately I m foolish I don t do this I ve been playing myself baby I don t care Cause your love s got the best of me And baby you re making a fool of me You got me sprung and I don t care who sees Cause baby you got me you got me so crazy baby Got me looking so crazy right now Your love s oh love got me looking so crazy right now lookin crazy Got me looking so crazy right now Your touch got me looking so crazy right now Got me hoping you ll page me right now Your kiss baby got me hoping you ll save me right now baby Looking so crazy Your love s got me looking got me looking so crazy Your love Got me looking so crazy right now Your love s got me looking so crazy right now Your love got me looking so crazy right now Your touch got me looking so crazy right now Your touch got me hoping you ll page me right now Your kiss got me hoping you ll save me right now Looking so crazy Your love s got me looking got me looking so crazy Your love ',\n",
       " 'daddylessons': ' Yee haw Oh oh oh Texas Texas ooh ooh ooh Texas Came into this world Daddy s little girl And daddy made a soldier out of me Ooh ooh ooh Daddy made me dance And daddy held my hand Ooh ooh ooh And daddy liked his whiskey with his tea And we rode motorcycles Blackjack classic vinyl Tough girl is what I had to be He said take care of your mother Watch out for your sister And oh that s when he gave to me With his gun and his head held high He told me not to cry Oh my daddy said shoot Oh my daddy said shoot With his right hand on his rifle He swore it on the bible My daddy said shoot Oh my daddy said shoot He held me in his arms And he taught me to be strong He told me when he s gone Here s what you do When trouble comes to town And men like me come around Oh my daddy said shoot Oh my daddy said shoot Ooh ooh ooh Yee woo Ooh ooh ooh Yee haw Woo Daddy made me fight It wasn t always right But he said girl it s your second amendment Ooh ooh ooh He always played it cool But daddy was no fool And right before he died he said remember He said take care of your mother Watch out for your sister And that s when daddy looked at me With his gun with his head held high He told me not to cry Oh my daddy said shoot Oh my daddy said shoot With his right hand on his rifle He swore it on the bible My daddy said shoot Oh my daddy said shoot Cause he held me in his arms And he taught me to be strong And he told me when he s gone Here s what you do When trouble comes to town And men like me come around Oh my daddy said shoot Oh my daddy said shoot Woo Ooh ooh ooh Ooh ooh ooh Ooh ooh ooh Ooh ooh ooh Yeehaw My daddy warned me about men like you He said baby girl he s playing you He s playing you My daddy warned me about men like you He said baby girl he s playing you He s playing you Cause when trouble comes in town And men like me come around Oh my daddy said shoot Oh my daddy said shoot Cause when trouble comes to town And men like me come around Oh my daddy said shoot Oh my daddy said shoot Good job Bey hahaha ',\n",
       " 'hiphopstar': ' Intro Big Boi Slowly as Sir Luscious step up like a Q Dawg A town s up deuces down it s the new call And you can dial 1 888 CUT SOMETHING I m your kinky operator when you wanna fuck something Ain t no dial tones just milestones of pleasure to reach To each his own I m a stone cold Aquarian freak Humanitarian barbarian but under the sheets It s the player from the Point And your girl from the D Are you infatuated with me I could end your curiosity If you don t think I m too rude Here s your chance to make your move I sit and wait for nobody People say that my my style is so crazy I think you like it baby Do you want to get nasty I dare you to undress me Baby let me know if you wanna roll With this hip hop star Bad boots on pants down low I m a hip hop star Baby let me know if you wanna ride with this Hip hop star I m a rock star Do I blow you away Do I stimulate your mind Would you taste my love if I kick it tight I have none to waste with you I guess you can say My style is so crazy I think you like it baby Do you want to get messy I dare you to undress me Baby let me know if you wanna roll With this hip hop star Bamboos on pants down low I m a hip hop star Baby let me know if you wanna ride with this Hip hop star I m a rock star Undress me undress me You can come Come baby undress me Take off that tank top and pull off them drawers The girls all pause got them dripping down they sugar walls Aw naw Getting to the nappy root Knocking boots and stilettos damn I keep it ghetto A cool type of fellow mellow got the gold medal Never settle for less my rose petal Tooey tooey tooey tooey Spit game Venom to get it up in em let me P pop that thang First check her brain to see if she s sane Deranged or strange or crazy as hell You never can tell these days Everybody got a little Rick James in they veins man Sleepy Brown The way I feel oh girl I know its bout to be Me all on you and damn girl you all over me Baby let me know if you wanna roll With this hip hop star Bad boots on pants down low I m a rock star Baby let me know if you wanna ride with this Hip hop star I m a rock star ',\n",
       " 'superpower': ' Verse 1 When the palm of my two hands hold each other That feels different From when your hands are in mine That s just the way it is hmmm And when my voice is screaming out to my own ears uh That feels different From when I hear yours Now that s just the way it is And when I m standing in this mirror After all these years What I m viewing is a little different From what your eyes show ya I guess I done seen myself before ya Moving forward Pre Hook Beyonce Frank Ocean Super power A subtle power Super power A tough love Super power Uh huh like a shark Super power Ooh Like a bear A tough love Hook Beyonce Frank Ocean And I thought the world would revolve I thought the world would revolve without us Without us without us without us But nothing I know could slow us down They couldn t slow us down I thought I could live without you Hey hey Cause nothing I know can break us Down They can t break us down Verse 2 And just like you I can t be scared And just like you I hope I m spared But it s tough love I know you feel it in the air Even the babies know it s there Tough love Super power The laws of the world tell us what goes sky And what falls It s a super power Super power The laws of the world never stopped us once Cause together we got plenty super power Pre Hook Beyonce Frank Ocean Super power A subtle power Super power A tough love Super power Uh huh like a shark Super power Ooh too much to bear Hook Beyonce Frank Ocean And I thought the world would revolve I thought the world would revolve without us Without us without us without us But nothing I know could slow us down They couldn t slow us down I thought I could live without you But together we got plenty power But nothing I know couldn t break us Down They can t break us down Outro x4 Yes we can Couldn t break us down They couldn t break us down ',\n",
       " 'memyselfi': ' All the ladies if you feel me help me sing it out I can t believe I believed Everything we had would last So young and naive of me to think She was from your past Silly of me to dream of One day having your kids Love is so blind It feels right when it s wrong I can t believe I fell for your schemes I m smarter than that So dumb and naive to believe that with me You re a changed man Foolish of me to compete When you cheat with loose women Took me some time but now I moved on Because I realized I got Me myself and I That s all I got in the end That s what I found out And it ain t no need to cry I took a vow that from now on I m gon be my own best friend Me myself and I That s all I got in the end That s what I found out And it ain t no need to cry I took a vow that from now on I m gon be my own best friend So controlling you say that you love me But you don t Your family told me one day I would see it on my own Next thing I know I m dealing With your three kids in my home Love is so blind It feels right when it s wrong Now that it s over Stop calling me Come pick up your clothes Ain t no need to front like you re still with me All your homies know Even your very best friend Tried to warn me on the low It took me some time But now I am strong Because I realized I got Me myself and I That s all I got in the end That s what I found out And it ain t no need to cry I took a vow that from now on I m gon be my own best friend Me myself and I That s all I got in the end That s what I found out And it ain t no need to cry I took a vow that from now on I m gon be my own best friend I got me myself and I I know that I will never disappoint myself I must have cried a thousand times All the ladies if you feel me help me sing it out I can t regret time spent with you Yeah you hurt me but I learned a lot along the way Still I m about to make it through After all the rain you ll see the sun come out again Now I got me myself and I I know that I will never disappoint myself I must have cried a thousand times All the ladies if you feel me help me sing it out I can t regret time spent with you Yeah you hurt me but I learned a lot along the way Still I m about to make it through After all the rain you ll see the sun come out again yeah I got me myself and I Me myself and I I must have cried a thousand times I have cried so many times I can t regret time spent with you I can t regret time spent with you Now I m about to make it through After all the rain you ll see the sun come out again Now I got me myself and I I know that I will never disappoint myself I must have cried a thousand times If you ve cried a thousand times ladies you will survive I can t regret time spent with you Yeah You hurt me but I learned a lot along the way Still I m about to make it through I can see the sun shine I got me myself and I ',\n",
       " 'signs': ' In December every sign has it s own mode I was in love with a Sagittarius See the emotions he put me through From Capricorns to Aquarius They all got their different minds The affection of a Virgo Which sign matches good with mine I was in love with a Sagittarius he blew my mind He also had a flip side too much like a Gemini He was freaky like a Taurus the way he handled me yeah Flirtatious like and Aries Which sign is best for me Capricorn Aquarius Pisces Aries Taurus Gemini Cancer oh Leo Virgo Libra Scorpio Sagittarius I love all y all Capricorn Aquarius Pisces Aries Taurus Gemini Cancer oh Leo Virgo Libra Scorpio Sagittarius I love all y all I wish he was a Virgo the same sign as me And know how to show me love cause I ve been hurt by a Pisces REWIND I wish he was a Virgo the same sign as me And know how to show me love cause I ve been hurt by a Pisces I want him sexy like a Scorpio The way he holds me close yeah Sensitive as a Cancer Every sign from coast to coast Capricorn Aquarius Pisces Aries Taurus Gemini Cancer oh Leo Virgo Libra Scorpio Sagittarius I love all y all Capricorn Aquarius Pisces Aries Taurus Gemini Cancer oh Leo Virgo Libra Scorpio Sagittarius I love all y all I can t explain why I love him Bossy like Leo s do Got game like an Aquarius Switch moves after he s been with you Fun like a Libra He stays on my mind He s so unpredictable He reminds me of every sign Capricorn Aquarius Pisces Aries Taurus Gemini Cancer oh Leo Virgo Libra Scorpio Sagittarius I love all y all Capricorn Aquarius Pisces Aries Taurus Gemini Cancer oh Leo Virgo Libra Scorpio Sagittarius I love all y all Every sign from the first to the last Everyday of the month has its good and its bad I love you all all12 signs Capricorn Aquarius Pisces Aries Taurus Gemini Cancer oh Capricorn Aquarius Pisces Aries Taurus Gemini Cancer oh Capricorn Aquarius Pisces Aries Taurus Gemini Cancer oh Every one of these signs you know you blowing me away No matter when you re born for sure with me you okay I love every one of y all no matter what sign you are January to December here s my open arms I was in love with a Sagittarius repeat out ',\n",
       " 'checkonit': ' Swiss Beats DC Destiny Child Slim Thug Slim Thug You need to stop playing round with all them clowns and the wangstas Good girls gotta get down with them gangstas Go head girl put some back and some neck up on it While I stand up in the background and check up on it Chorus Oh boy you looking like you like what you see Won t you come over and check up on it I m gon let you work up on it Ladies let em check up on it watch it while he check up on it Dip it pop it twerk it stop it check on me tonight If you got it flaunt it boy I know you want it While I turn around you watch me check up on it Oh you watching me shake it I see it in ya face Ya can t take it it s blazing you watch me in amazement You can look at it as long as you don t grab it If you don t go bragging I ma let you have it You think that I m teasing but I ain t got no reason I m sure that I can please ya but first I gotta read you Chorus Oh boy you looking like you like what you see Won t you come over and check up on it I m gon let you work up on it Ladies let em check up on it watch it while he check up on it Dip it pop it twerk it stop it check on me tonight 2x I can tell you wanna taste it but I m gon make you chase it You got to be patient I like my men patient More patience you take might get you in more places You can t be abrasive have to know to pace it If I let you get up on it you gotta make a promise That you gon put it on me like no ones put it on me Don t bore me just show me all men talk but don t please I can be a tease but I really wanna please you Chorus Oh boy you looking like you like what you see Won t you come over and check up on it I m gon let you work up on it Ladies let em check up on it watch it while he check up on it Dip it pop it twerk it stop it check on me tonight 2x Bun B I m checking on you boo do what you do And while dance I ma glance at this beautiful view I m keep my hands in my pants I need to glue em with glue I m in a trance all eyes on you and your crew Me and my mans don t dance but to feel ya ll bump and grind It won t hurt if you gon try one time They all hot but let me see this ones mine Its slim thug and DC outta H town Chorus Oh boy you looking like you like what you see Won t you come over and check up on it I m gon let you work up on it Ladies let em check up on it watch it while he check up on it Dip it pop it twerk it stop it check on me tonight 4x ',\n",
       " 'sorry': ' Sorry I ain t sorry Sorry I ain t sorry I ain t sorry Nigga nah Sorry I ain t sorry Sorry I ain t sorry I ain t sorry He trying to roll me up I ain t sorry I ain t picking up I ain t sorry Headed to the club I ain t sorry I ain t thinking bout you I ain t sorry Me and my ladies sip my d uss cups I don t give a fuck chucking my deuces up Suck on my balls pause I had enough I ain t thinking bout you I ain t thinking bout Middle fingers up Put them hands high Wave it in his face Tell em boy bye Tell em boy bye Boy bye Middle fingers up I ain t thinking bout you Sorry I ain t sorry Sorry I ain t sorry I ain t sorry Nigga nah Sorry I ain t sorry Sorry I ain t sorry I ain t sorry No no hell nah Now you want to say you re sorry Now you want to call me crying Now you gotta see me wildin Now I m the one that s lying And I don t feel bad about it It s exactly what you get Stop interrupting my grinding You re interrupting my grinding I ain t thinking bout you I ain t thinking bout you I ain t thinking bout you I ain t thinking bout you I ain t thinking bout you Middle fingers up Put them hands high Wave it in his face Tell em boy bye Tell em boy bye Boy bye Middle fingers up I ain t thinking bout you Sorry I ain t sorry Sorry I ain t sorry I ain t sorry Nigga nah Sorry I ain t sorry Sorry I ain t sorry I ain t sorry No no hell nah Looking at my watch he should ve been home Today I regret the night I put that ring on He always got them fucking excuses I pray to the Lord you reveal what his truth is I left a note in the hallway By the time you read it I ll be far away I m far away But I ain t fucking with nobody Let s have a toast to the good life Suicide before you see this tear fall down my eyes Me and my baby we gone be alright We gon live a good life Big homie better grow up Me and my whoadies bout to stroll up I see them boppers in the corner They sneaking out the back door He only want me when I m not there He better call Becky with the good hair He better call Becky with the good hair ',\n",
       " 'flawlessremix': ' Dum da de da Do do do do do do Coming down dripping candy on the ground It s that Yonc your Yonc in that lingerie On that chardonnay scoring touchdowns on your runway I m Texas forever like Bun B and I m redboned yo I m really rit like Donjae I m camo in here yo These thots can t clock me nowadays You wish I was your poundcake Boy you know I look good as fuck You wish I was your baby momma Want me to come around and give you good karma but no We escalating up in this bitch like elevators Of course sometimes shit go down When it s a billion dollars on an elevator Of course sometimes shit go down When it s a billion dollars on an elevator Ha ha God damn God damn God damn Momma taught me good home training My Daddy taught me how to love my haters My sister taught me I should speak my mind My man made me feel so God damn fine I m flawless You wake up flawless Post up flawless Ridin round in it flawless Flossin on that flawless This diamond flawless My diamond flawless This rock flawless My Roc flawless I woke up like this I woke up like this We flawless ladies tell em I woke up like this I woke up like this We flawless ladies tell em Say I look so good tonight God damn God damn Say I look so good tonight God damn God damn God damn I wake up looking this good God damn God damn God damn And I wouldn t change it if I could If I if I if I if I And you can say what you want I m the shit What you want I m the shit I m the shit I m the shit I m the shit I m the shit I want everyone to feel like this tonight God damn God damn God damn Onika Nicki Minaj Looking Trinidadian Japanese and Indian Got Malaysian got that yaki that wavy Brazilian Beyonce Them bitches thirsty UHN I m Hungarian Nicki BB be eating diamond fangs barbarian RAAAAH Nicki Minaj Yo like MJ s doctor they killing me Propofol I know they hope I fall But tell em winning is my motherfuckin protocol Cause I score before I ever throw the ball These bitches washed up and ain t no fuckin soap involved uh This every hood nigga dream fantasizing about Nicki and Bey Curvalicious pussy served delicious Mayday mayday earth to bitches Slap these hoes on they ass like we birthing bitches uh The queen of rap slayin with Queen Bey If you ain t on the team you playin for team D Cause we A listers we paid sisters This watch right here done phased blizzards I confess I woke up like this All this drank in my cup like this All this ass on that flawless dick Instagram another flawless pic Flawless city with these flawless titties I got all these hundreds you got all them fifties I m with some flawless bitches because they more than pretty Cause niggas love bad bitches that be on they grizzly Throw that ass back I be on my frisbee Princess cut diamonds on my Disney He want Monster Nicki in Sri Lanka I told him Meet me at the Trump Ivanka I said come here let me show you how this cookie taste This that yeah nigga eat that cookie face Right right right ',\n",
       " 'ringoff': ' Verse 1 Mama I understand your many sleepless nights When you sit and you think about Father Or how you tried to be the perfect wife Pre Hook You used to dress and fix your hair Then you d smile through your tears In the mirror you would stare And say a prayer Like I wish he said I m beautiful I wish it didn t hurt at all I don t know how I got here I was once the one who had his heart Hook Until you had enough then you took that ring off You took that ring off So tired of the lies and trying fighting crying Took that ring off Oh now the fun begins Dust yourself off and you ll love again Find a new man now you shine and you re fine Like it s my time you took that ring off Verse 2 Mama so sexy you live and learn that s just the way love goes Uh you a killer you a killer killer Always know that you got a daughter That s oh so proud you took the high road You a killer so sexy Pre Hook Hook Bridge After all your tears After all that pain s all cleared Mama after all them years We can start all over again Mama and now it all makes sense Letting go is never the end Mama we can love again This is where freedom begins Outro Mama so put your love on top Keep on shinning put your love on top It s your time to put your love on top Everybody put your love on top Aye love on top Aye love on top It s your time to put your love on top Girl you so fine put your love on top Outro Skit Tina Knowles If you re going through it just know it s called going THROUGH it You re not gonna get stuck there you re not gonna die You re gonna survive '}"
      ]
     },
     "execution_count": 15,
     "metadata": {},
     "output_type": "execute_result"
    }
   ],
   "source": [
    "title_and_lyrics"
   ]
  },
  {
   "cell_type": "code",
   "execution_count": 16,
   "metadata": {},
   "outputs": [],
   "source": [
    "block_three = song_modified[47:70]\n",
    "# Grabs lyrics and removes all punctuation and capitalization. whitespace kept though\n",
    "for x in block_three:\n",
    "    curr_song = \"https://www.azlyrics.com/lyrics/beyonceknowles/{song}\"\n",
    "    curr_song = curr_song.format(song = x)\n",
    "    curr_song_req = requests.get(curr_song)\n",
    "    time.sleep(30)\n",
    "    curr_song_result = BeautifulSoup(curr_song_req.text, 'lxml')\n",
    "    \n",
    "    for i in curr_song_result.find_all('div', {'class':'col-xs-12 col-lg-8 text-center'}):\n",
    "        \n",
    "        # lyrics - no punctuation, capitalization. whitespace kept #\n",
    "        for j in i.find_all('div',class_= None):\n",
    "            curr_lyrics = j.text.replace(\"\\n\",\" \")\n",
    "            mod_lyrics = re.sub('[^0-9a-zA-Z]+', ' ', curr_lyrics)\n",
    "            just_lyrics.append(mod_lyrics.lower())\n",
    "            title_and_lyrics[x[:-5]] = mod_lyrics"
   ]
  },
  {
   "cell_type": "code",
   "execution_count": 17,
   "metadata": {},
   "outputs": [
    {
     "name": "stdout",
     "output_type": "stream",
     "text": [
      "70 70\n"
     ]
    }
   ],
   "source": [
    "print(len(just_lyrics), len(title_and_lyrics))"
   ]
  },
  {
   "cell_type": "code",
   "execution_count": 18,
   "metadata": {},
   "outputs": [],
   "source": [
    "block_four = song_modified[70:94]\n",
    "# Grabs lyrics and removes all punctuation and capitalization. whitespace kept though\n",
    "for x in block_four:\n",
    "    curr_song = \"https://www.azlyrics.com/lyrics/beyonceknowles/{song}\"\n",
    "    curr_song = curr_song.format(song = x)\n",
    "    curr_song_req = requests.get(curr_song)\n",
    "    time.sleep(30)\n",
    "    curr_song_result = BeautifulSoup(curr_song_req.text, 'lxml')\n",
    "    \n",
    "    for i in curr_song_result.find_all('div', {'class':'col-xs-12 col-lg-8 text-center'}):\n",
    "        \n",
    "        # lyrics - no punctuation, capitalization. whitespace kept #\n",
    "        for j in i.find_all('div',class_= None):\n",
    "            curr_lyrics = j.text.replace(\"\\n\",\" \")\n",
    "            mod_lyrics = re.sub('[^0-9a-zA-Z]+', ' ', curr_lyrics)\n",
    "            just_lyrics.append(mod_lyrics.lower())\n",
    "            title_and_lyrics[x[:-5]] = mod_lyrics"
   ]
  },
  {
   "cell_type": "code",
   "execution_count": 19,
   "metadata": {},
   "outputs": [
    {
     "name": "stdout",
     "output_type": "stream",
     "text": [
      "94 94\n"
     ]
    }
   ],
   "source": [
    "print(len(just_lyrics), len(title_and_lyrics))"
   ]
  },
  {
   "cell_type": "code",
   "execution_count": 20,
   "metadata": {},
   "outputs": [],
   "source": [
    "block_five = song_modified[94:118]\n",
    "\n",
    "# Grabs lyrics and removes all punctuation and capitalization. whitespace kept though\n",
    "for x in block_five:\n",
    "    curr_song = \"https://www.azlyrics.com/lyrics/beyonceknowles/{song}\"\n",
    "    curr_song = curr_song.format(song = x)\n",
    "    curr_song_req = requests.get(curr_song)\n",
    "    time.sleep(30)\n",
    "    curr_song_result = BeautifulSoup(curr_song_req.text, 'lxml')\n",
    "    \n",
    "    for i in curr_song_result.find_all('div', {'class':'col-xs-12 col-lg-8 text-center'}):\n",
    "        \n",
    "        # lyrics - no punctuation, capitalization. whitespace kept #\n",
    "        for j in i.find_all('div',class_= None):\n",
    "            curr_lyrics = j.text.replace(\"\\n\",\" \")\n",
    "            mod_lyrics = re.sub('[^0-9a-zA-Z]+', ' ', curr_lyrics)\n",
    "            just_lyrics.append(mod_lyrics.lower())\n",
    "            title_and_lyrics[x[:-5]] = mod_lyrics"
   ]
  },
  {
   "cell_type": "code",
   "execution_count": 21,
   "metadata": {},
   "outputs": [
    {
     "name": "stdout",
     "output_type": "stream",
     "text": [
      "118 118\n"
     ]
    }
   ],
   "source": [
    "print(len(just_lyrics), len(title_and_lyrics))"
   ]
  },
  {
   "cell_type": "code",
   "execution_count": 23,
   "metadata": {},
   "outputs": [],
   "source": [
    "block_six = song_modified[118:]\n",
    "\n",
    "# Grabs lyrics and removes all punctuation and capitalization. whitespace kept though\n",
    "for x in block_six:\n",
    "    curr_song = \"https://www.azlyrics.com/lyrics/beyonceknowles/{song}\"\n",
    "    curr_song = curr_song.format(song = x)\n",
    "    curr_song_req = requests.get(curr_song)\n",
    "    time.sleep(30)\n",
    "    curr_song_result = BeautifulSoup(curr_song_req.text, 'lxml')\n",
    "    \n",
    "    for i in curr_song_result.find_all('div', {'class':'col-xs-12 col-lg-8 text-center'}):\n",
    "        \n",
    "        # lyrics - no punctuation, capitalization. whitespace kept #\n",
    "        for j in i.find_all('div',class_= None):\n",
    "            curr_lyrics = j.text.replace(\"\\n\",\" \")\n",
    "            mod_lyrics = re.sub('[^0-9a-zA-Z]+', ' ', curr_lyrics)\n",
    "            just_lyrics.append(mod_lyrics.lower())\n",
    "            title_and_lyrics[x[:-5]] = mod_lyrics"
   ]
  },
  {
   "cell_type": "code",
   "execution_count": 24,
   "metadata": {},
   "outputs": [
    {
     "name": "stdout",
     "output_type": "stream",
     "text": [
      "127 127\n"
     ]
    }
   ],
   "source": [
    "print(len(just_lyrics), len(title_and_lyrics))"
   ]
  },
  {
   "cell_type": "code",
   "execution_count": 35,
   "metadata": {},
   "outputs": [],
   "source": [
    "lyrics_data = pd.DataFrame.from_records([title_and_lyrics])\n",
    "lyrics_data = lyrics_data.T.reset_index()\n",
    "lyrics_data = lyrics_data.rename(columns={'index':'Song Title', 0:'Song Lyrics'})\n",
    "lyrics_data.to_csv(\"lyrics_data.csv\")"
   ]
  },
  {
   "cell_type": "code",
   "execution_count": null,
   "metadata": {},
   "outputs": [],
   "source": []
  }
 ],
 "metadata": {
  "kernelspec": {
   "display_name": "Python 3",
   "language": "python",
   "name": "python3"
  },
  "language_info": {
   "codemirror_mode": {
    "name": "ipython",
    "version": 3
   },
   "file_extension": ".py",
   "mimetype": "text/x-python",
   "name": "python",
   "nbconvert_exporter": "python",
   "pygments_lexer": "ipython3",
   "version": "3.7.7"
  }
 },
 "nbformat": 4,
 "nbformat_minor": 4
}
