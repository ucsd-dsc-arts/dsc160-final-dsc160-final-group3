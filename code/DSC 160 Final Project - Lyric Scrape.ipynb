{
 "cells": [
  {
   "cell_type": "code",
   "execution_count": 1,
   "metadata": {},
   "outputs": [],
   "source": [
    "from bs4 import BeautifulSoup\n",
    "import os\n",
    "import requests\n",
    "import re\n",
    "import pandas as pd\n",
    "import time"
   ]
  },
  {
   "cell_type": "code",
   "execution_count": 2,
   "metadata": {},
   "outputs": [],
   "source": [
    "lyrics_url = \"https://www.azlyrics.com/k/knowles.html\"\n",
    "lyrics_url_query = requests.get(lyrics_url)\n",
    "lyrics_result = BeautifulSoup(lyrics_url_query.text, 'lxml')"
   ]
  },
  {
   "cell_type": "code",
   "execution_count": 3,
   "metadata": {},
   "outputs": [],
   "source": [
    "# Grabs all the songs from Beyonce into one list\n",
    "beyonce_songs = []\n",
    "for i in lyrics_result.find_all('div', {'class':'listalbum-item'}):\n",
    "    for j in i.find_all(\"a\"):\n",
    "        x = j.get('href')\n",
    "        curr_song = re.findall(\"/[a-zA-z]*.html\", x)\n",
    "        fix_songs = [i[1:] for i in curr_song]\n",
    "        beyonce_songs.append(fix_songs)\n",
    "# list of Beyonce songs\n",
    "songs_fixed = [song for song_list in beyonce_songs for song in song_list]"
   ]
  },
  {
   "cell_type": "code",
   "execution_count": null,
   "metadata": {
    "scrolled": true
   },
   "outputs": [],
   "source": [
    "# RUNS ALL SONGS THAT THE WEBSITE STATES IS FROM BEYONCE\n",
    "# USE FOR CLARIFICATION ONLY - DO NOT RUN\n",
    "\n",
    "# # Grabs lyrics and removes all punctuation and capitalization. whitespace kept though\n",
    "\n",
    "# # list of just song lyrics, no song titles\n",
    "# just_lyrics = []\n",
    "# # dictionary of song lyrics with titles associated with the lyric\n",
    "# title_and_lyrics = {}\n",
    "\n",
    "# for x in songs_fixed:\n",
    "#     curr_song = \"https://www.azlyrics.com/lyrics/beyonceknowles/{song}\"\n",
    "#     curr_song = curr_song.format(song = x)\n",
    "#     curr_song_req = requests.get(curr_song)\n",
    "#     time.sleep(5)\n",
    "#     curr_song_result = BeautifulSoup(curr_song_req.text, 'lxml')\n",
    "    \n",
    "#     for i in curr_song_result.find_all('div', {'class':'col-xs-12 col-lg-8 text-center'}):\n",
    "        \n",
    "#         # lyrics - no punctuation, capitalization. whitespace kept #\n",
    "#         for j in i.find_all('div',class_= None):\n",
    "#             curr_lyrics = j.text.replace(\"\\n\",\" \")\n",
    "#             mod_lyrics = re.sub('[^0-9a-zA-Z]+', ' ', curr_lyrics)\n",
    "#             just_lyrics.append(mod_lyrics.lower())\n",
    "#             title_and_lyrics[x[:-5]] = mod_lyrics"
   ]
  },
  {
   "cell_type": "markdown",
   "metadata": {},
   "source": [
    "### Beyonce Lyric Scrape\n",
    "\n",
    "### NOTE\n",
    "- Run each block separately and allow from some time to pass before running each block. (Like a minute or two)\n",
    "    - There is a 30-second time delay already in the code for each request, you can adjust if necessary\n",
    "    - Running all blocks at the same time might result in an IP ban on azlyrics website\n",
    "- Each block should add onto the list: \"just_lyrics\" and the dictionary: \"title_and_dictionary\". To ensure that all songs were totalled correctly, each container should have a length of 127 once all blocks are run"
   ]
  },
  {
   "cell_type": "code",
   "execution_count": 5,
   "metadata": {},
   "outputs": [],
   "source": [
    "# list of just song lyrics, no song titles\n",
    "just_lyrics = []\n",
    "# dictionary of song lyrics with titles associated with the lyric\n",
    "title_and_lyrics = {}"
   ]
  },
  {
   "cell_type": "code",
   "execution_count": 6,
   "metadata": {},
   "outputs": [],
   "source": [
    "# MODIFIES LIST TO SHOW ONLY SONGS FROM BEYONCE ALBUMS. \"LIVE\" VERSIONS, MOVIE ALBUMS, ADDITIONAL SONGS\n",
    "#, ARE NOT INCLUDED\n",
    "song_modified = list(set(songs_fixed[:138]))"
   ]
  },
  {
   "cell_type": "code",
   "execution_count": 7,
   "metadata": {},
   "outputs": [
    {
     "data": {
      "text/plain": [
       "127"
      ]
     },
     "execution_count": 7,
     "metadata": {},
     "output_type": "execute_result"
    }
   ],
   "source": [
    "len(song_modified)"
   ]
  },
  {
   "cell_type": "code",
   "execution_count": 8,
   "metadata": {},
   "outputs": [],
   "source": [
    "block_one = song_modified[:23]\n",
    "\n",
    "# Grabs lyrics and removes all punctuation and capitalization. whitespace kept though\n",
    "for x in block_one:\n",
    "    curr_song = \"https://www.azlyrics.com/lyrics/beyonceknowles/{song}\"\n",
    "    curr_song = curr_song.format(song = x)\n",
    "    curr_song_req = requests.get(curr_song)\n",
    "    time.sleep(30)\n",
    "    curr_song_result = BeautifulSoup(curr_song_req.text, 'lxml')\n",
    "    \n",
    "    for i in curr_song_result.find_all('div', {'class':'col-xs-12 col-lg-8 text-center'}):\n",
    "        \n",
    "        # lyrics - no punctuation, capitalization. whitespace kept #\n",
    "        for j in i.find_all('div',class_= None):\n",
    "            curr_lyrics = j.text.replace(\"\\n\",\" \")\n",
    "#             mod_lyrics = re.sub('[^0-9a-zA-Z]+', ' ', curr_lyrics)\n",
    "            just_lyrics.append(curr_lyrics.lower())\n",
    "            title_and_lyrics[x[:-5]] = curr_lyrics"
   ]
  },
  {
   "cell_type": "code",
   "execution_count": 9,
   "metadata": {},
   "outputs": [
    {
     "name": "stdout",
     "output_type": "stream",
     "text": [
      "23 23\n"
     ]
    }
   ],
   "source": [
    "print(len(just_lyrics), len(title_and_lyrics))"
   ]
  },
  {
   "cell_type": "code",
   "execution_count": 11,
   "metadata": {},
   "outputs": [],
   "source": [
    "block_two = song_modified[23:47]\n",
    "\n",
    "# Grabs lyrics and removes all punctuation and capitalization. whitespace kept though\n",
    "for x in block_two:\n",
    "    curr_song = \"https://www.azlyrics.com/lyrics/beyonceknowles/{song}\"\n",
    "    curr_song = curr_song.format(song = x)\n",
    "    curr_song_req = requests.get(curr_song)\n",
    "    time.sleep(30)\n",
    "    curr_song_result = BeautifulSoup(curr_song_req.text, 'lxml')\n",
    "    \n",
    "    for i in curr_song_result.find_all('div', {'class':'col-xs-12 col-lg-8 text-center'}):\n",
    "        \n",
    "        # lyrics - no punctuation, capitalization. whitespace kept #\n",
    "        for j in i.find_all('div',class_= None):\n",
    "            curr_lyrics = j.text.replace(\"\\n\",\" \")\n",
    "#             mod_lyrics = re.sub('[^0-9a-zA-Z]+', ' ', curr_lyrics)\n",
    "            just_lyrics.append(curr_lyrics.lower())\n",
    "            title_and_lyrics[x[:-5]] = curr_lyrics"
   ]
  },
  {
   "cell_type": "code",
   "execution_count": 12,
   "metadata": {},
   "outputs": [
    {
     "name": "stdout",
     "output_type": "stream",
     "text": [
      "47 47\n"
     ]
    }
   ],
   "source": [
    "print(len(just_lyrics), len(title_and_lyrics))"
   ]
  },
  {
   "cell_type": "code",
   "execution_count": null,
   "metadata": {},
   "outputs": [],
   "source": [
    "title_and_lyrics"
   ]
  },
  {
   "cell_type": "code",
   "execution_count": 13,
   "metadata": {},
   "outputs": [],
   "source": [
    "block_three = song_modified[47:70]\n",
    "# Grabs lyrics and removes all punctuation and capitalization. whitespace kept though\n",
    "for x in block_three:\n",
    "    curr_song = \"https://www.azlyrics.com/lyrics/beyonceknowles/{song}\"\n",
    "    curr_song = curr_song.format(song = x)\n",
    "    curr_song_req = requests.get(curr_song)\n",
    "    time.sleep(30)\n",
    "    curr_song_result = BeautifulSoup(curr_song_req.text, 'lxml')\n",
    "    \n",
    "    for i in curr_song_result.find_all('div', {'class':'col-xs-12 col-lg-8 text-center'}):\n",
    "        \n",
    "        # lyrics - no punctuation, capitalization. whitespace kept #\n",
    "        for j in i.find_all('div',class_= None):\n",
    "            curr_lyrics = j.text.replace(\"\\n\",\" \")\n",
    "#             mod_lyrics = re.sub('[^0-9a-zA-Z]+', ' ', curr_lyrics)\n",
    "            just_lyrics.append(curr_lyrics.lower())\n",
    "            title_and_lyrics[x[:-5]] = curr_lyrics"
   ]
  },
  {
   "cell_type": "code",
   "execution_count": 14,
   "metadata": {},
   "outputs": [
    {
     "name": "stdout",
     "output_type": "stream",
     "text": [
      "70 70\n"
     ]
    }
   ],
   "source": [
    "print(len(just_lyrics), len(title_and_lyrics))"
   ]
  },
  {
   "cell_type": "code",
   "execution_count": 15,
   "metadata": {},
   "outputs": [],
   "source": [
    "block_four = song_modified[70:94]\n",
    "# Grabs lyrics and removes all punctuation and capitalization. whitespace kept though\n",
    "for x in block_four:\n",
    "    curr_song = \"https://www.azlyrics.com/lyrics/beyonceknowles/{song}\"\n",
    "    curr_song = curr_song.format(song = x)\n",
    "    curr_song_req = requests.get(curr_song)\n",
    "    time.sleep(30)\n",
    "    curr_song_result = BeautifulSoup(curr_song_req.text, 'lxml')\n",
    "    \n",
    "    for i in curr_song_result.find_all('div', {'class':'col-xs-12 col-lg-8 text-center'}):\n",
    "        \n",
    "        # lyrics - no punctuation, capitalization. whitespace kept #\n",
    "        for j in i.find_all('div',class_= None):\n",
    "            curr_lyrics = j.text.replace(\"\\n\",\" \")\n",
    "#             mod_lyrics = re.sub('[^0-9a-zA-Z]+', ' ', curr_lyrics)\n",
    "            just_lyrics.append(curr_lyrics.lower())\n",
    "            title_and_lyrics[x[:-5]] = curr_lyrics"
   ]
  },
  {
   "cell_type": "code",
   "execution_count": 16,
   "metadata": {},
   "outputs": [
    {
     "name": "stdout",
     "output_type": "stream",
     "text": [
      "94 94\n"
     ]
    }
   ],
   "source": [
    "print(len(just_lyrics), len(title_and_lyrics))"
   ]
  },
  {
   "cell_type": "code",
   "execution_count": 17,
   "metadata": {},
   "outputs": [],
   "source": [
    "block_five = song_modified[94:118]\n",
    "\n",
    "# Grabs lyrics and removes all punctuation and capitalization. whitespace kept though\n",
    "for x in block_five:\n",
    "    curr_song = \"https://www.azlyrics.com/lyrics/beyonceknowles/{song}\"\n",
    "    curr_song = curr_song.format(song = x)\n",
    "    curr_song_req = requests.get(curr_song)\n",
    "    time.sleep(30)\n",
    "    curr_song_result = BeautifulSoup(curr_song_req.text, 'lxml')\n",
    "    \n",
    "    for i in curr_song_result.find_all('div', {'class':'col-xs-12 col-lg-8 text-center'}):\n",
    "        \n",
    "        # lyrics - no punctuation, capitalization. whitespace kept #\n",
    "        for j in i.find_all('div',class_= None):\n",
    "            curr_lyrics = j.text.replace(\"\\n\",\" \")\n",
    "#             mod_lyrics = re.sub('[^0-9a-zA-Z]+', ' ', curr_lyrics)\n",
    "            just_lyrics.append(curr_lyrics.lower())\n",
    "            title_and_lyrics[x[:-5]] = curr_lyrics"
   ]
  },
  {
   "cell_type": "code",
   "execution_count": 18,
   "metadata": {},
   "outputs": [
    {
     "name": "stdout",
     "output_type": "stream",
     "text": [
      "118 118\n"
     ]
    }
   ],
   "source": [
    "print(len(just_lyrics), len(title_and_lyrics))"
   ]
  },
  {
   "cell_type": "code",
   "execution_count": 19,
   "metadata": {},
   "outputs": [],
   "source": [
    "block_six = song_modified[118:]\n",
    "\n",
    "# Grabs lyrics and removes all punctuation and capitalization. whitespace kept though\n",
    "for x in block_six:\n",
    "    curr_song = \"https://www.azlyrics.com/lyrics/beyonceknowles/{song}\"\n",
    "    curr_song = curr_song.format(song = x)\n",
    "    curr_song_req = requests.get(curr_song)\n",
    "    time.sleep(30)\n",
    "    curr_song_result = BeautifulSoup(curr_song_req.text, 'lxml')\n",
    "    \n",
    "    for i in curr_song_result.find_all('div', {'class':'col-xs-12 col-lg-8 text-center'}):\n",
    "        \n",
    "        # lyrics - no punctuation, capitalization. whitespace kept #\n",
    "        for j in i.find_all('div',class_= None):\n",
    "            curr_lyrics = j.text.replace(\"\\n\",\" \")\n",
    "#             mod_lyrics = re.sub('[^0-9a-zA-Z]+', ' ', curr_lyrics)\n",
    "            just_lyrics.append(curr_lyrics.lower())\n",
    "            title_and_lyrics[x[:-5]] = curr_lyrics"
   ]
  },
  {
   "cell_type": "code",
   "execution_count": 20,
   "metadata": {},
   "outputs": [
    {
     "name": "stdout",
     "output_type": "stream",
     "text": [
      "127 127\n"
     ]
    }
   ],
   "source": [
    "print(len(just_lyrics), len(title_and_lyrics))"
   ]
  },
  {
   "cell_type": "code",
   "execution_count": 40,
   "metadata": {},
   "outputs": [],
   "source": [
    "# Unnecessary punctuations are further removed \n",
    "modified_lyrics = []\n",
    "for i in just_lyrics:\n",
    "    curr = i.replace(\"\\r\", \"\")\n",
    "    curr_2 = curr.replace(\"'\", \"\")\n",
    "    modified_lyrics.append(curr_2)"
   ]
  },
  {
   "cell_type": "code",
   "execution_count": 47,
   "metadata": {},
   "outputs": [],
   "source": [
    "# Unnecessary punctuations are further removed\n",
    "# Additional whitespaces removed for final dataset creation\n",
    "title_and_lyrics_mod = {}\n",
    "for i in title_and_lyrics.keys():\n",
    "    curr = title_and_lyrics[i]\n",
    "    curr_one = curr.replace(\"\\r\", \"\").replace(\"'\",\"\").lstrip().rstrip().lower()\n",
    "    title_and_lyrics_mod[i] = curr_one"
   ]
  },
  {
   "cell_type": "code",
   "execution_count": 49,
   "metadata": {},
   "outputs": [],
   "source": [
    "# Lyric txt file created - datasource (2/2)\n",
    "text_file = open(\"lyrics_text.txt\", \"w\")\n",
    "n = text_file.write(modified_lyrics)\n",
    "text_file.close()"
   ]
  },
  {
   "cell_type": "code",
   "execution_count": 50,
   "metadata": {},
   "outputs": [],
   "source": [
    "# Lyric dataframe created - datasource (1/2)\n",
    "lyrics_data = pd.DataFrame.from_records([title_and_lyrics_mod])\n",
    "lyrics_data = lyrics_data.T.reset_index()\n",
    "lyrics_data = lyrics_data.rename(columns={'index':'Song Title', 0:'Song Lyrics'})\n",
    "lyrics_data.to_csv(\"lyrics_data_v2.csv\")"
   ]
  },
  {
   "cell_type": "code",
   "execution_count": null,
   "metadata": {},
   "outputs": [],
   "source": []
  }
 ],
 "metadata": {
  "kernelspec": {
   "display_name": "Python 3",
   "language": "python",
   "name": "python3"
  },
  "language_info": {
   "codemirror_mode": {
    "name": "ipython",
    "version": 3
   },
   "file_extension": ".py",
   "mimetype": "text/x-python",
   "name": "python",
   "nbconvert_exporter": "python",
   "pygments_lexer": "ipython3",
   "version": "3.7.7"
  }
 },
 "nbformat": 4,
 "nbformat_minor": 4
}
