{
 "cells": [
  {
   "cell_type": "code",
   "execution_count": 1,
   "metadata": {},
   "outputs": [],
   "source": [
    "import numpy as np\n",
    "import pandas as pd"
   ]
  },
  {
   "cell_type": "code",
   "execution_count": 2,
   "metadata": {},
   "outputs": [],
   "source": [
    "df = pd.read_csv('../data/lyrics_data_v2.csv')\n",
    "df = df.drop(['Unnamed: 0'], axis=1)"
   ]
  },
  {
   "cell_type": "markdown",
   "metadata": {},
   "source": [
    "### Exploration"
   ]
  },
  {
   "cell_type": "code",
   "execution_count": 3,
   "metadata": {},
   "outputs": [],
   "source": [
    "#Gathering all words into a single list\n",
    "tokens = []\n",
    "for i in range(len(df)):\n",
    "    temp = [t for t in df['Song Lyrics'][i].split()]\n",
    "#     print(temp)\n",
    "    tokens = tokens + temp"
   ]
  },
  {
   "cell_type": "code",
   "execution_count": 4,
   "metadata": {
    "scrolled": false
   },
   "outputs": [
    {
     "data": {
      "image/png": "[encoded data removed]",
      "text/plain": [
       "<Figure size 432x288 with 1 Axes>"
      ]
     },
     "metadata": {
      "needs_background": "light"
     },
     "output_type": "display_data"
    },
    {
     "data": {
      "text/plain": [
       "<matplotlib.axes._subplots.AxesSubplot at 0x11bb75b90>"
      ]
     },
     "execution_count": 4,
     "metadata": {},
     "output_type": "execute_result"
    }
   ],
   "source": [
    "import nltk\n",
    "from nltk.corpus import stopwords\n",
    "\n",
    "sr= stopwords.words('english')\n",
    "clean_tokens = tokens[:]\n",
    "for token in tokens:\n",
    "    if token in stopwords.words('english'):\n",
    "        clean_tokens.remove(token)\n",
    "        \n",
    "freq = nltk.FreqDist(clean_tokens)\n",
    "# for key,val in freq.items():\n",
    "#     print(str(key) + ':' + str(val))\n",
    "freq.plot(20, cumulative=False)"
   ]
  },
  {
   "cell_type": "code",
   "execution_count": 5,
   "metadata": {},
   "outputs": [],
   "source": [
    "def multi_color_func(word=None, font_size=None,\n",
    "                     position=None, orientation=None,\n",
    "                     font_path=None, random_state=None):\n",
    "    colors = [[4, 77, 82],\n",
    "              [25, 74, 85],\n",
    "              [82, 43, 84],\n",
    "              [158, 48, 79]]\n",
    "    rand = random_state.randint(0, len(colors) - 1)\n",
    "    return \"hsl({}, {}%, {}%)\".format(colors[rand][0], colors[rand][1], colors[rand][2])"
   ]
  },
  {
   "cell_type": "code",
   "execution_count": 8,
   "metadata": {
    "scrolled": true
   },
   "outputs": [
    {
     "ename": "ModuleNotFoundError",
     "evalue": "No module named 'wordcloud'",
     "output_type": "error",
     "traceback": [
      "\u001b[0;31m---------------------------------------------------------------------------\u001b[0m",
      "\u001b[0;31mModuleNotFoundError\u001b[0m                       Traceback (most recent call last)",
      "\u001b[0;32m<ipython-input-8-be711938361b>\u001b[0m in \u001b[0;36m<module>\u001b[0;34m\u001b[0m\n\u001b[0;32m----> 1\u001b[0;31m \u001b[0;32mfrom\u001b[0m \u001b[0mwordcloud\u001b[0m \u001b[0;32mimport\u001b[0m \u001b[0mWordCloud\u001b[0m\u001b[0;34m,\u001b[0m \u001b[0mSTOPWORDS\u001b[0m\u001b[0;34m\u001b[0m\u001b[0;34m\u001b[0m\u001b[0m\n\u001b[0m\u001b[1;32m      2\u001b[0m \u001b[0;32mimport\u001b[0m \u001b[0mmatplotlib\u001b[0m\u001b[0;34m.\u001b[0m\u001b[0mpyplot\u001b[0m \u001b[0;32mas\u001b[0m \u001b[0mplt\u001b[0m\u001b[0;34m\u001b[0m\u001b[0;34m\u001b[0m\u001b[0m\n\u001b[1;32m      3\u001b[0m \u001b[0;34m\u001b[0m\u001b[0m\n\u001b[1;32m      4\u001b[0m \u001b[0mtext\u001b[0m \u001b[0;34m=\u001b[0m \u001b[0mclean_tokens\u001b[0m\u001b[0;34m\u001b[0m\u001b[0;34m\u001b[0m\u001b[0m\n\u001b[1;32m      5\u001b[0m wordcloud = WordCloud(\n",
      "\u001b[0;31mModuleNotFoundError\u001b[0m: No module named 'wordcloud'"
     ]
    }
   ],
   "source": [
    "from wordcloud import WordCloud, STOPWORDS\n",
    "import matplotlib.pyplot as plt\n",
    "\n",
    "text = clean_tokens\n",
    "wordcloud = WordCloud(\n",
    "    width = 3000,\n",
    "    height = 2000,\n",
    "    background_color = 'white',\n",
    "    color_func=multi_color_func,\n",
    "    stopwords = STOPWORDS).generate(str(text))\n",
    "fig = plt.figure(\n",
    "    figsize = (40, 30),\n",
    "    facecolor = 'k',\n",
    "    edgecolor = 'k')\n",
    "plt.imshow(wordcloud, interpolation = 'bilinear')\n",
    "plt.axis('off')\n",
    "plt.tight_layout(pad=0)\n",
    "plt.show()\n",
    "\n",
    "fig"
   ]
  },
  {
   "cell_type": "markdown",
   "metadata": {},
   "source": [
    "### TF-IDF"
   ]
  },
  {
   "cell_type": "code",
   "execution_count": 334,
   "metadata": {},
   "outputs": [],
   "source": [
    "speech = df['Song Lyrics']\n",
    "speech = speech.str.replace('[^a-zA-Z]', ' ').str.lower()\n",
    "words = pd.Series(speech.str.split().sum()).value_counts()"
   ]
  },
  {
   "cell_type": "code",
   "execution_count": 343,
   "metadata": {
    "scrolled": true
   },
   "outputs": [
    {
     "data": {
      "text/html": [
       "<div>\n",
       "<style scoped>\n",
       "    .dataframe tbody tr th:only-of-type {\n",
       "        vertical-align: middle;\n",
       "    }\n",
       "\n",
       "    .dataframe tbody tr th {\n",
       "        vertical-align: top;\n",
       "    }\n",
       "\n",
       "    .dataframe thead th {\n",
       "        text-align: right;\n",
       "    }\n",
       "</style>\n",
       "<table border=\"1\" class=\"dataframe\">\n",
       "  <thead>\n",
       "    <tr style=\"text-align: right;\">\n",
       "      <th></th>\n",
       "      <th>you</th>\n",
       "      <th>i</th>\n",
       "      <th>the</th>\n",
       "      <th>me</th>\n",
       "      <th>to</th>\n",
       "      <th>a</th>\n",
       "      <th>my</th>\n",
       "      <th>and</th>\n",
       "      <th>it</th>\n",
       "      <th>oh</th>\n",
       "      <th>...</th>\n",
       "      <th>liquor</th>\n",
       "      <th>saw</th>\n",
       "      <th>sit</th>\n",
       "      <th>ready</th>\n",
       "      <th>temptation</th>\n",
       "      <th>any</th>\n",
       "      <th>miss</th>\n",
       "      <th>closer</th>\n",
       "      <th>wake</th>\n",
       "      <th>kitty</th>\n",
       "    </tr>\n",
       "  </thead>\n",
       "  <tbody>\n",
       "    <tr>\n",
       "      <th>0</th>\n",
       "      <td>-0.226410</td>\n",
       "      <td>-1.349665</td>\n",
       "      <td>-0.051215</td>\n",
       "      <td>-0.039077</td>\n",
       "      <td>-0.162964</td>\n",
       "      <td>-1.417954</td>\n",
       "      <td>-0.082382</td>\n",
       "      <td>-0.128538</td>\n",
       "      <td>-0.024215</td>\n",
       "      <td>-0.113221</td>\n",
       "      <td>...</td>\n",
       "      <td>0.0</td>\n",
       "      <td>0.0</td>\n",
       "      <td>0.0</td>\n",
       "      <td>0.0</td>\n",
       "      <td>0.0</td>\n",
       "      <td>0.000000</td>\n",
       "      <td>0.0</td>\n",
       "      <td>0.0</td>\n",
       "      <td>0.0</td>\n",
       "      <td>0.0</td>\n",
       "    </tr>\n",
       "    <tr>\n",
       "      <th>1</th>\n",
       "      <td>-0.099229</td>\n",
       "      <td>-0.942526</td>\n",
       "      <td>-0.025899</td>\n",
       "      <td>-0.243718</td>\n",
       "      <td>-0.117729</td>\n",
       "      <td>-1.412375</td>\n",
       "      <td>-0.087949</td>\n",
       "      <td>-0.083573</td>\n",
       "      <td>-0.073473</td>\n",
       "      <td>-0.211403</td>\n",
       "      <td>...</td>\n",
       "      <td>0.0</td>\n",
       "      <td>0.0</td>\n",
       "      <td>0.0</td>\n",
       "      <td>0.0</td>\n",
       "      <td>0.0</td>\n",
       "      <td>0.000000</td>\n",
       "      <td>0.0</td>\n",
       "      <td>0.0</td>\n",
       "      <td>0.0</td>\n",
       "      <td>0.0</td>\n",
       "    </tr>\n",
       "    <tr>\n",
       "      <th>2</th>\n",
       "      <td>-0.395772</td>\n",
       "      <td>-0.936213</td>\n",
       "      <td>-0.022381</td>\n",
       "      <td>-0.273230</td>\n",
       "      <td>-0.071217</td>\n",
       "      <td>-0.901320</td>\n",
       "      <td>-0.048002</td>\n",
       "      <td>-0.032098</td>\n",
       "      <td>-0.042329</td>\n",
       "      <td>-0.000000</td>\n",
       "      <td>...</td>\n",
       "      <td>0.0</td>\n",
       "      <td>0.0</td>\n",
       "      <td>0.0</td>\n",
       "      <td>0.0</td>\n",
       "      <td>0.0</td>\n",
       "      <td>0.000000</td>\n",
       "      <td>0.0</td>\n",
       "      <td>0.0</td>\n",
       "      <td>0.0</td>\n",
       "      <td>0.0</td>\n",
       "    </tr>\n",
       "    <tr>\n",
       "      <th>3</th>\n",
       "      <td>-0.000000</td>\n",
       "      <td>-1.446605</td>\n",
       "      <td>-0.000000</td>\n",
       "      <td>-0.072292</td>\n",
       "      <td>-0.032302</td>\n",
       "      <td>-1.430845</td>\n",
       "      <td>-0.000000</td>\n",
       "      <td>-0.000000</td>\n",
       "      <td>-0.011200</td>\n",
       "      <td>-0.000000</td>\n",
       "      <td>...</td>\n",
       "      <td>0.0</td>\n",
       "      <td>0.0</td>\n",
       "      <td>0.0</td>\n",
       "      <td>0.0</td>\n",
       "      <td>0.0</td>\n",
       "      <td>0.000000</td>\n",
       "      <td>0.0</td>\n",
       "      <td>0.0</td>\n",
       "      <td>0.0</td>\n",
       "      <td>0.0</td>\n",
       "    </tr>\n",
       "    <tr>\n",
       "      <th>4</th>\n",
       "      <td>-0.242232</td>\n",
       "      <td>-1.375218</td>\n",
       "      <td>-0.154108</td>\n",
       "      <td>-0.052259</td>\n",
       "      <td>-0.015567</td>\n",
       "      <td>-1.580250</td>\n",
       "      <td>-0.097931</td>\n",
       "      <td>-0.085950</td>\n",
       "      <td>-0.048577</td>\n",
       "      <td>-0.011647</td>\n",
       "      <td>...</td>\n",
       "      <td>0.0</td>\n",
       "      <td>0.0</td>\n",
       "      <td>0.0</td>\n",
       "      <td>0.0</td>\n",
       "      <td>0.0</td>\n",
       "      <td>0.002635</td>\n",
       "      <td>0.0</td>\n",
       "      <td>0.0</td>\n",
       "      <td>0.0</td>\n",
       "      <td>0.0</td>\n",
       "    </tr>\n",
       "  </tbody>\n",
       "</table>\n",
       "<p>5 rows × 500 columns</p>\n",
       "</div>"
      ],
      "text/plain": [
       "        you         i       the        me        to         a        my  \\\n",
       "0 -0.226410 -1.349665 -0.051215 -0.039077 -0.162964 -1.417954 -0.082382   \n",
       "1 -0.099229 -0.942526 -0.025899 -0.243718 -0.117729 -1.412375 -0.087949   \n",
       "2 -0.395772 -0.936213 -0.022381 -0.273230 -0.071217 -0.901320 -0.048002   \n",
       "3 -0.000000 -1.446605 -0.000000 -0.072292 -0.032302 -1.430845 -0.000000   \n",
       "4 -0.242232 -1.375218 -0.154108 -0.052259 -0.015567 -1.580250 -0.097931   \n",
       "\n",
       "        and        it        oh  ...  liquor  saw  sit  ready  temptation  \\\n",
       "0 -0.128538 -0.024215 -0.113221  ...     0.0  0.0  0.0    0.0         0.0   \n",
       "1 -0.083573 -0.073473 -0.211403  ...     0.0  0.0  0.0    0.0         0.0   \n",
       "2 -0.032098 -0.042329 -0.000000  ...     0.0  0.0  0.0    0.0         0.0   \n",
       "3 -0.000000 -0.011200 -0.000000  ...     0.0  0.0  0.0    0.0         0.0   \n",
       "4 -0.085950 -0.048577 -0.011647  ...     0.0  0.0  0.0    0.0         0.0   \n",
       "\n",
       "        any  miss  closer  wake  kitty  \n",
       "0  0.000000   0.0     0.0   0.0    0.0  \n",
       "1  0.000000   0.0     0.0   0.0    0.0  \n",
       "2  0.000000   0.0     0.0   0.0    0.0  \n",
       "3  0.000000   0.0     0.0   0.0    0.0  \n",
       "4  0.002635   0.0     0.0   0.0    0.0  \n",
       "\n",
       "[5 rows x 500 columns]"
      ]
     },
     "execution_count": 343,
     "metadata": {},
     "output_type": "execute_result"
    }
   ],
   "source": [
    "tfidf = pd.DataFrame([], index=speech.index)  # dataframe of documents\n",
    "tf_denom = (df['Song Lyrics'].str.count(' ') + 1)\n",
    "for w in words.iloc[0:500].index:\n",
    "    # imperfect pattern match for speed\n",
    "    re_pat = '%s' % w\n",
    "    tf = df['Song Lyrics'].str.count(re_pat) / tf_denom\n",
    "    idf = np.log(len(df) / df['Song Lyrics'].str.count(re_pat).sum())\n",
    "    tfidf[w] =  tf * idf\n",
    "tfidf.head()"
   ]
  },
  {
   "cell_type": "code",
   "execution_count": 349,
   "metadata": {},
   "outputs": [
    {
     "data": {
      "text/plain": [
       "['run',\n",
       " 'shoot',\n",
       " 'youve',\n",
       " 'soy',\n",
       " 'inside',\n",
       " 'halo',\n",
       " 'sweet',\n",
       " 'www',\n",
       " 'freedom',\n",
       " 'home',\n",
       " 'upgrade',\n",
       " 'myself',\n",
       " 'flawless',\n",
       " 'shakira',\n",
       " 'either',\n",
       " 'wanted',\n",
       " 'find',\n",
       " 'hurts',\n",
       " 'temptation',\n",
       " 'looking']"
      ]
     },
     "execution_count": 349,
     "metadata": {},
     "output_type": "execute_result"
    }
   ],
   "source": [
    "list(tfidf.idxmax(axis=1)[:20])"
   ]
  },
  {
   "cell_type": "markdown",
   "metadata": {},
   "source": [
    "# Model Creation"
   ]
  },
  {
   "cell_type": "code",
   "execution_count": 187,
   "metadata": {},
   "outputs": [],
   "source": [
    "from nltk.util import pad_sequence\n",
    "from nltk.util import bigrams\n",
    "from nltk.util import ngrams\n",
    "from nltk.util import everygrams\n",
    "from nltk.lm.preprocessing import pad_both_ends\n",
    "from nltk.lm.preprocessing import flatten"
   ]
  },
  {
   "cell_type": "markdown",
   "metadata": {},
   "source": [
    "### Probability"
   ]
  },
  {
   "cell_type": "code",
   "execution_count": 319,
   "metadata": {
    "scrolled": false
   },
   "outputs": [],
   "source": [
    "from nltk.corpus import reuters\n",
    "from nltk import bigrams, trigrams\n",
    "from collections import Counter, defaultdict\n",
    "\n",
    "# Create a placeholder for model\n",
    "model = defaultdict(lambda: defaultdict(lambda: 0))\n",
    "\n",
    "for sentence in df['Song Lyrics']:\n",
    "#     print(sentence + '\\n')\n",
    "    sentence = sentence.split()\n",
    "    for w1, w2, w3 in trigrams(sentence, pad_right=True, pad_left=True):\n",
    "#         print(w1,w2,w3)\n",
    "        model[(w1, w2)][w3] += 1\n",
    "\n",
    "for w1_w2 in model:\n",
    "    total_count = float(sum(model[w1_w2].values()))\n",
    "    for w3 in model[w1_w2]:\n",
    "        model[w1_w2][w3] /= total_count\n",
    "        "
   ]
  },
  {
   "cell_type": "markdown",
   "metadata": {},
   "source": [
    "### N-Gram Calculator"
   ]
  },
  {
   "cell_type": "code",
   "execution_count": 194,
   "metadata": {
    "scrolled": true
   },
   "outputs": [],
   "source": [
    "trigrams = ngrams(tokens,3)\n",
    "tricount = Counter(trigrams)\n",
    "\n",
    "trivals = tricount.values()\n",
    "denom = sum(vals)\n",
    "trivals = [x for x in trivals]\n",
    "phrase = [x for x in tricount.keys()]\n",
    "tridf = pd.DataFrame({'Phrase': phrase, 'Freq': trivals})"
   ]
  },
  {
   "cell_type": "code",
   "execution_count": 195,
   "metadata": {},
   "outputs": [],
   "source": [
    "quadgrams = ngrams(tokens,4)\n",
    "quadcount = Counter(quadgrams)\n",
    "\n",
    "quadvals = quadcount.values()\n",
    "denom = sum(vals)\n",
    "quadvals = [x for x in quadvals]\n",
    "phrase = [x for x in quadcount.keys()]\n",
    "quaddf = pd.DataFrame({'Phrase': phrase, 'Freq': quadvals})"
   ]
  },
  {
   "cell_type": "code",
   "execution_count": 196,
   "metadata": {},
   "outputs": [
    {
     "data": {
      "text/plain": [
       "<matplotlib.axes._subplots.AxesSubplot at 0x1a2ad884d0>"
      ]
     },
     "execution_count": 196,
     "metadata": {},
     "output_type": "execute_result"
    },
    {
     "data": {
      "image/png": "[encoded data removed]",
      "text/plain": [
       "<Figure size 432x288 with 1 Axes>"
      ]
     },
     "metadata": {
      "needs_background": "light"
     },
     "output_type": "display_data"
    }
   ],
   "source": [
    "tridf.sort_values(by='Freq', ascending=False)[:10].plot.bar(x = 'Phrase', y = 'Freq')"
   ]
  },
  {
   "cell_type": "code",
   "execution_count": 197,
   "metadata": {
    "scrolled": true
   },
   "outputs": [
    {
     "data": {
      "text/plain": [
       "<matplotlib.axes._subplots.AxesSubplot at 0x1a2bb26d90>"
      ]
     },
     "execution_count": 197,
     "metadata": {},
     "output_type": "execute_result"
    },
    {
     "data": {
      "image/png": "[encoded data removed]",
      "text/plain": [
       "<Figure size 432x288 with 1 Axes>"
      ]
     },
     "metadata": {
      "needs_background": "light"
     },
     "output_type": "display_data"
    }
   ],
   "source": [
    "quaddf.sort_values(by='Freq', ascending=False)[:10].plot.bar(x = 'Phrase', y = 'Freq')"
   ]
  },
  {
   "cell_type": "code",
   "execution_count": 204,
   "metadata": {},
   "outputs": [],
   "source": [
    "def ngrams_calc(lst, n):\n",
    "#     lst = lst.split(' ')\n",
    "    output = []\n",
    "    for i in range(len(lst)-n+1):\n",
    "        output.append(lst[i:i+n])\n",
    "    return output"
   ]
  },
  {
   "cell_type": "code",
   "execution_count": null,
   "metadata": {},
   "outputs": [],
   "source": []
  }
 ],
 "metadata": {
  "kernelspec": {
   "display_name": "Python 3",
   "language": "python",
   "name": "python3"
  },
  "language_info": {
   "codemirror_mode": {
    "name": "ipython",
    "version": 3
   },
   "file_extension": ".py",
   "mimetype": "text/x-python",
   "name": "python",
   "nbconvert_exporter": "python",
   "pygments_lexer": "ipython3",
   "version": "3.7.7"
  }
 },
 "nbformat": 4,
 "nbformat_minor": 4
}
